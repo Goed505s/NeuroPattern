{
 "cells": [
  {
   "cell_type": "code",
   "execution_count": 1,
   "metadata": {},
   "outputs": [
    {
     "name": "stderr",
     "output_type": "stream",
     "text": [
      "Seed set to 2021\n"
     ]
    },
    {
     "name": "stdout",
     "output_type": "stream",
     "text": [
      "IS CUDA AVAILABLE\n",
      "True\n",
      "Ignored unknown arguments: ['--f=c:\\\\Users\\\\eddie\\\\AppData\\\\Roaming\\\\jupyter\\\\runtime\\\\kernel-v2-144361IJw8mabDY2n.json']\n",
      "ARGS teest\n",
      "notebook\n",
      "fulldire C:\\Users\\eddie\\OneDrive\\Documents\\GitHub\\NeuroPattern\\lag-llama\\model-size-scaling-logs\\2021\n",
      "Using lightning_version version_1 with epoch 182 restoring from checkpoint at path C:\\Users\\eddie\\OneDrive\\Documents\\GitHub\\NeuroPattern\\lag-llama\\model-size-scaling-logs\\2021\\experiments/lightning_logs/version_1/checkpoints\\epoch=182-step=18300.ckpt\n",
      "num_parameters :  3434755\n"
     ]
    },
    {
     "name": "stderr",
     "output_type": "stream",
     "text": [
      "GPU available: True (cuda), used: True\n",
      "TPU available: False, using: 0 TPU cores\n",
      "IPU available: False, using: 0 IPUs\n",
      "HPU available: False, using: 0 HPUs\n",
      "You are using a CUDA device ('NVIDIA GeForce RTX 3090') that has Tensor Cores. To properly utilize them, you should set `torch.set_float32_matmul_precision('medium' | 'high')` which will trade-off precision for performance. For more details, read https://pytorch.org/docs/stable/generated/torch.set_float32_matmul_precision.html#torch.set_float32_matmul_precision\n",
      "c:\\Users\\eddie\\anaconda3\\Lib\\site-packages\\lightning_fabric\\loggers\\csv_logs.py:198: Experiment logs directory C:\\Users\\eddie\\OneDrive\\Documents\\GitHub\\NeuroPattern\\lag-llama\\model-size-scaling-logs\\2021\\experiments\\lightning_logs\\version_1 exists and is not empty. Previous log files in this directory will be deleted when the new ones are saved!\n",
      "c:\\Users\\eddie\\anaconda3\\Lib\\site-packages\\pytorch_lightning\\callbacks\\model_checkpoint.py:639: Checkpoint directory C:\\Users\\eddie\\OneDrive\\Documents\\GitHub\\NeuroPattern\\lag-llama\\model-size-scaling-logs\\2021\\experiments\\lightning_logs\\version_1\\checkpoints exists and is not empty.\n",
      "Restoring states from the checkpoint path at C:\\Users\\eddie\\OneDrive\\Documents\\GitHub\\NeuroPattern\\lag-llama\\model-size-scaling-logs\\2021\\experiments/lightning_logs/version_1/checkpoints\\epoch=182-step=18300.ckpt\n",
      "LOCAL_RANK: 0 - CUDA_VISIBLE_DEVICES: [0]\n",
      "\n",
      "  | Name  | Type          | Params\n",
      "----------------------------------------\n",
      "0 | model | LagLlamaModel | 3.4 M \n",
      "----------------------------------------\n",
      "3.4 M     Trainable params\n",
      "0         Non-trainable params\n",
      "3.4 M     Total params\n",
      "13.739    Total estimated model params size (MB)\n",
      "Restored all states from the checkpoint at C:\\Users\\eddie\\OneDrive\\Documents\\GitHub\\NeuroPattern\\lag-llama\\model-size-scaling-logs\\2021\\experiments/lightning_logs/version_1/checkpoints\\epoch=182-step=18300.ckpt\n"
     ]
    },
    {
     "data": {
      "application/vnd.jupyter.widget-view+json": {
       "model_id": "37bec2fcc8674a34ad90dcffc21b5572",
       "version_major": 2,
       "version_minor": 0
      },
      "text/plain": [
       "Sanity Checking: |          | 0/? [00:00<?, ?it/s]"
      ]
     },
     "metadata": {},
     "output_type": "display_data"
    },
    {
     "data": {
      "application/vnd.jupyter.widget-view+json": {
       "model_id": "c035850efc0644a489d9443704858321",
       "version_major": 2,
       "version_minor": 0
      },
      "text/plain": [
       "Training: |          | 0/? [00:00<?, ?it/s]"
      ]
     },
     "metadata": {},
     "output_type": "display_data"
    },
    {
     "data": {
      "application/vnd.jupyter.widget-view+json": {
       "model_id": "6b4f1bcc796e458493ec2eb557b8985f",
       "version_major": 2,
       "version_minor": 0
      },
      "text/plain": [
       "Validation: |          | 0/? [00:00<?, ?it/s]"
      ]
     },
     "metadata": {},
     "output_type": "display_data"
    },
    {
     "name": "stderr",
     "output_type": "stream",
     "text": [
      "Epoch 183, global step 18400: 'val_loss' was not in top 1\n"
     ]
    },
    {
     "data": {
      "application/vnd.jupyter.widget-view+json": {
       "model_id": "ea1372cfdbca408cb970c6677233b038",
       "version_major": 2,
       "version_minor": 0
      },
      "text/plain": [
       "Validation: |          | 0/? [00:00<?, ?it/s]"
      ]
     },
     "metadata": {},
     "output_type": "display_data"
    },
    {
     "name": "stderr",
     "output_type": "stream",
     "text": [
      "Epoch 184, global step 18500: 'val_loss' was not in top 1\n"
     ]
    },
    {
     "data": {
      "application/vnd.jupyter.widget-view+json": {
       "model_id": "c31c5b5e0e2b42798cf2b7b11518b8ea",
       "version_major": 2,
       "version_minor": 0
      },
      "text/plain": [
       "Validation: |          | 0/? [00:00<?, ?it/s]"
      ]
     },
     "metadata": {},
     "output_type": "display_data"
    },
    {
     "name": "stderr",
     "output_type": "stream",
     "text": [
      "Epoch 185, global step 18600: 'val_loss' was not in top 1\n"
     ]
    },
    {
     "data": {
      "application/vnd.jupyter.widget-view+json": {
       "model_id": "81ffc3803c1c48d0b7462df6dfc8071e",
       "version_major": 2,
       "version_minor": 0
      },
      "text/plain": [
       "Validation: |          | 0/? [00:00<?, ?it/s]"
      ]
     },
     "metadata": {},
     "output_type": "display_data"
    },
    {
     "name": "stderr",
     "output_type": "stream",
     "text": [
      "Epoch 186, global step 18700: 'val_loss' was not in top 1\n"
     ]
    },
    {
     "data": {
      "application/vnd.jupyter.widget-view+json": {
       "model_id": "f059eeea26444195ac7db55ba80598ce",
       "version_major": 2,
       "version_minor": 0
      },
      "text/plain": [
       "Validation: |          | 0/? [00:00<?, ?it/s]"
      ]
     },
     "metadata": {},
     "output_type": "display_data"
    },
    {
     "name": "stderr",
     "output_type": "stream",
     "text": [
      "Epoch 187, global step 18800: 'val_loss' was not in top 1\n"
     ]
    },
    {
     "data": {
      "application/vnd.jupyter.widget-view+json": {
       "model_id": "b0c090711ab04308a88064b65d9f1eea",
       "version_major": 2,
       "version_minor": 0
      },
      "text/plain": [
       "Validation: |          | 0/? [00:00<?, ?it/s]"
      ]
     },
     "metadata": {},
     "output_type": "display_data"
    },
    {
     "name": "stderr",
     "output_type": "stream",
     "text": [
      "Epoch 188, global step 18900: 'val_loss' was not in top 1\n"
     ]
    },
    {
     "data": {
      "application/vnd.jupyter.widget-view+json": {
       "model_id": "77bf3fb330f941e686ae51a82087ba35",
       "version_major": 2,
       "version_minor": 0
      },
      "text/plain": [
       "Validation: |          | 0/? [00:00<?, ?it/s]"
      ]
     },
     "metadata": {},
     "output_type": "display_data"
    },
    {
     "name": "stderr",
     "output_type": "stream",
     "text": [
      "Epoch 189, global step 19000: 'val_loss' was not in top 1\n"
     ]
    },
    {
     "data": {
      "application/vnd.jupyter.widget-view+json": {
       "model_id": "e9bacd5f1eac4b199dbf5758f5ce1cc1",
       "version_major": 2,
       "version_minor": 0
      },
      "text/plain": [
       "Validation: |          | 0/? [00:00<?, ?it/s]"
      ]
     },
     "metadata": {},
     "output_type": "display_data"
    },
    {
     "name": "stderr",
     "output_type": "stream",
     "text": [
      "Epoch 190, global step 19100: 'val_loss' was not in top 1\n"
     ]
    },
    {
     "data": {
      "application/vnd.jupyter.widget-view+json": {
       "model_id": "c54f07748c0b4d9aa2a867faa0c86145",
       "version_major": 2,
       "version_minor": 0
      },
      "text/plain": [
       "Validation: |          | 0/? [00:00<?, ?it/s]"
      ]
     },
     "metadata": {},
     "output_type": "display_data"
    },
    {
     "name": "stderr",
     "output_type": "stream",
     "text": [
      "Epoch 191, global step 19200: 'val_loss' was not in top 1\n"
     ]
    },
    {
     "data": {
      "application/vnd.jupyter.widget-view+json": {
       "model_id": "db32abb30fca4a70977a4a7d143d4c85",
       "version_major": 2,
       "version_minor": 0
      },
      "text/plain": [
       "Validation: |          | 0/? [00:00<?, ?it/s]"
      ]
     },
     "metadata": {},
     "output_type": "display_data"
    },
    {
     "name": "stderr",
     "output_type": "stream",
     "text": [
      "Epoch 192, global step 19300: 'val_loss' was not in top 1\n"
     ]
    },
    {
     "data": {
      "application/vnd.jupyter.widget-view+json": {
       "model_id": "ad67623a18df473ab3f6396bc4a180d3",
       "version_major": 2,
       "version_minor": 0
      },
      "text/plain": [
       "Validation: |          | 0/? [00:00<?, ?it/s]"
      ]
     },
     "metadata": {},
     "output_type": "display_data"
    },
    {
     "name": "stderr",
     "output_type": "stream",
     "text": [
      "Epoch 193, global step 19400: 'val_loss' was not in top 1\n"
     ]
    },
    {
     "data": {
      "application/vnd.jupyter.widget-view+json": {
       "model_id": "602e90e6f165488fb49a6461a1da61a0",
       "version_major": 2,
       "version_minor": 0
      },
      "text/plain": [
       "Validation: |          | 0/? [00:00<?, ?it/s]"
      ]
     },
     "metadata": {},
     "output_type": "display_data"
    },
    {
     "name": "stderr",
     "output_type": "stream",
     "text": [
      "Epoch 194, global step 19500: 'val_loss' was not in top 1\n"
     ]
    },
    {
     "data": {
      "application/vnd.jupyter.widget-view+json": {
       "model_id": "e00723bd4619402db05e53075dd27e1f",
       "version_major": 2,
       "version_minor": 0
      },
      "text/plain": [
       "Validation: |          | 0/? [00:00<?, ?it/s]"
      ]
     },
     "metadata": {},
     "output_type": "display_data"
    },
    {
     "name": "stderr",
     "output_type": "stream",
     "text": [
      "Epoch 195, global step 19600: 'val_loss' was not in top 1\n"
     ]
    },
    {
     "data": {
      "application/vnd.jupyter.widget-view+json": {
       "model_id": "11bebab1451e4a598077ea63189fef9e",
       "version_major": 2,
       "version_minor": 0
      },
      "text/plain": [
       "Validation: |          | 0/? [00:00<?, ?it/s]"
      ]
     },
     "metadata": {},
     "output_type": "display_data"
    },
    {
     "name": "stderr",
     "output_type": "stream",
     "text": [
      "Epoch 196, global step 19700: 'val_loss' was not in top 1\n"
     ]
    },
    {
     "data": {
      "application/vnd.jupyter.widget-view+json": {
       "model_id": "471cf2c366fa4585ab41ccae82ef8a0b",
       "version_major": 2,
       "version_minor": 0
      },
      "text/plain": [
       "Validation: |          | 0/? [00:00<?, ?it/s]"
      ]
     },
     "metadata": {},
     "output_type": "display_data"
    },
    {
     "name": "stderr",
     "output_type": "stream",
     "text": [
      "Epoch 197, global step 19800: 'val_loss' was not in top 1\n"
     ]
    },
    {
     "data": {
      "application/vnd.jupyter.widget-view+json": {
       "model_id": "10b7cc5112c64a98abc27677b53149dc",
       "version_major": 2,
       "version_minor": 0
      },
      "text/plain": [
       "Validation: |          | 0/? [00:00<?, ?it/s]"
      ]
     },
     "metadata": {},
     "output_type": "display_data"
    },
    {
     "name": "stderr",
     "output_type": "stream",
     "text": [
      "Epoch 198, global step 19900: 'val_loss' was not in top 1\n"
     ]
    },
    {
     "data": {
      "application/vnd.jupyter.widget-view+json": {
       "model_id": "d360ed842e7648d8a9b1ad7eddcc02b2",
       "version_major": 2,
       "version_minor": 0
      },
      "text/plain": [
       "Validation: |          | 0/? [00:00<?, ?it/s]"
      ]
     },
     "metadata": {},
     "output_type": "display_data"
    },
    {
     "name": "stderr",
     "output_type": "stream",
     "text": [
      "Epoch 199, global step 20000: 'val_loss' was not in top 1\n"
     ]
    },
    {
     "data": {
      "application/vnd.jupyter.widget-view+json": {
       "model_id": "bc0161578aa04a01a1f06e05732573d3",
       "version_major": 2,
       "version_minor": 0
      },
      "text/plain": [
       "Validation: |          | 0/? [00:00<?, ?it/s]"
      ]
     },
     "metadata": {},
     "output_type": "display_data"
    },
    {
     "name": "stderr",
     "output_type": "stream",
     "text": [
      "Epoch 200, global step 20100: 'val_loss' was not in top 1\n"
     ]
    },
    {
     "data": {
      "application/vnd.jupyter.widget-view+json": {
       "model_id": "2c62471641df49a08f5dd39278928985",
       "version_major": 2,
       "version_minor": 0
      },
      "text/plain": [
       "Validation: |          | 0/? [00:00<?, ?it/s]"
      ]
     },
     "metadata": {},
     "output_type": "display_data"
    },
    {
     "name": "stderr",
     "output_type": "stream",
     "text": [
      "Epoch 201, global step 20200: 'val_loss' was not in top 1\n"
     ]
    },
    {
     "data": {
      "application/vnd.jupyter.widget-view+json": {
       "model_id": "624127d2b5b6432fa5c88312f46e05f6",
       "version_major": 2,
       "version_minor": 0
      },
      "text/plain": [
       "Validation: |          | 0/? [00:00<?, ?it/s]"
      ]
     },
     "metadata": {},
     "output_type": "display_data"
    },
    {
     "name": "stderr",
     "output_type": "stream",
     "text": [
      "Epoch 202, global step 20300: 'val_loss' was not in top 1\n"
     ]
    },
    {
     "data": {
      "application/vnd.jupyter.widget-view+json": {
       "model_id": "fa928e936b2e47c3b8fe68ef537d1557",
       "version_major": 2,
       "version_minor": 0
      },
      "text/plain": [
       "Validation: |          | 0/? [00:00<?, ?it/s]"
      ]
     },
     "metadata": {},
     "output_type": "display_data"
    },
    {
     "name": "stderr",
     "output_type": "stream",
     "text": [
      "Epoch 203, global step 20400: 'val_loss' was not in top 1\n"
     ]
    },
    {
     "data": {
      "application/vnd.jupyter.widget-view+json": {
       "model_id": "b0eadd387bde4d1a97b1b65360f3854f",
       "version_major": 2,
       "version_minor": 0
      },
      "text/plain": [
       "Validation: |          | 0/? [00:00<?, ?it/s]"
      ]
     },
     "metadata": {},
     "output_type": "display_data"
    },
    {
     "name": "stderr",
     "output_type": "stream",
     "text": [
      "Epoch 204, global step 20500: 'val_loss' was not in top 1\n"
     ]
    },
    {
     "data": {
      "application/vnd.jupyter.widget-view+json": {
       "model_id": "d5914d5eec2442a5b0ecde68784eb308",
       "version_major": 2,
       "version_minor": 0
      },
      "text/plain": [
       "Validation: |          | 0/? [00:00<?, ?it/s]"
      ]
     },
     "metadata": {},
     "output_type": "display_data"
    },
    {
     "name": "stderr",
     "output_type": "stream",
     "text": [
      "Epoch 205, global step 20600: 'val_loss' was not in top 1\n"
     ]
    },
    {
     "data": {
      "application/vnd.jupyter.widget-view+json": {
       "model_id": "ea2fe3d27a304e9ea84bfcebdcd3aaa8",
       "version_major": 2,
       "version_minor": 0
      },
      "text/plain": [
       "Validation: |          | 0/? [00:00<?, ?it/s]"
      ]
     },
     "metadata": {},
     "output_type": "display_data"
    },
    {
     "name": "stderr",
     "output_type": "stream",
     "text": [
      "Epoch 206, global step 20700: 'val_loss' was not in top 1\n"
     ]
    },
    {
     "data": {
      "application/vnd.jupyter.widget-view+json": {
       "model_id": "d8f19279b3324207ae286dbd7fac0893",
       "version_major": 2,
       "version_minor": 0
      },
      "text/plain": [
       "Validation: |          | 0/? [00:00<?, ?it/s]"
      ]
     },
     "metadata": {},
     "output_type": "display_data"
    },
    {
     "name": "stderr",
     "output_type": "stream",
     "text": [
      "Epoch 207, global step 20800: 'val_loss' was not in top 1\n"
     ]
    },
    {
     "data": {
      "application/vnd.jupyter.widget-view+json": {
       "model_id": "0a20f46c057f4e53bcb93f93c9c7df54",
       "version_major": 2,
       "version_minor": 0
      },
      "text/plain": [
       "Validation: |          | 0/? [00:00<?, ?it/s]"
      ]
     },
     "metadata": {},
     "output_type": "display_data"
    },
    {
     "name": "stderr",
     "output_type": "stream",
     "text": [
      "Epoch 208, global step 20900: 'val_loss' was not in top 1\n"
     ]
    },
    {
     "data": {
      "application/vnd.jupyter.widget-view+json": {
       "model_id": "299b34924ceb48dca1b8512cb78b3516",
       "version_major": 2,
       "version_minor": 0
      },
      "text/plain": [
       "Validation: |          | 0/? [00:00<?, ?it/s]"
      ]
     },
     "metadata": {},
     "output_type": "display_data"
    },
    {
     "name": "stderr",
     "output_type": "stream",
     "text": [
      "Epoch 209, global step 21000: 'val_loss' was not in top 1\n"
     ]
    },
    {
     "data": {
      "application/vnd.jupyter.widget-view+json": {
       "model_id": "13e0b90214c24afe8ae7170b1738e189",
       "version_major": 2,
       "version_minor": 0
      },
      "text/plain": [
       "Validation: |          | 0/? [00:00<?, ?it/s]"
      ]
     },
     "metadata": {},
     "output_type": "display_data"
    },
    {
     "name": "stderr",
     "output_type": "stream",
     "text": [
      "Epoch 210, global step 21100: 'val_loss' was not in top 1\n"
     ]
    },
    {
     "data": {
      "application/vnd.jupyter.widget-view+json": {
       "model_id": "3f9c1a905b7d405f8463b5478cf45d58",
       "version_major": 2,
       "version_minor": 0
      },
      "text/plain": [
       "Validation: |          | 0/? [00:00<?, ?it/s]"
      ]
     },
     "metadata": {},
     "output_type": "display_data"
    },
    {
     "name": "stderr",
     "output_type": "stream",
     "text": [
      "Epoch 211, global step 21200: 'val_loss' was not in top 1\n"
     ]
    },
    {
     "data": {
      "application/vnd.jupyter.widget-view+json": {
       "model_id": "edc8215925484dfe9a76335393cb671c",
       "version_major": 2,
       "version_minor": 0
      },
      "text/plain": [
       "Validation: |          | 0/? [00:00<?, ?it/s]"
      ]
     },
     "metadata": {},
     "output_type": "display_data"
    },
    {
     "name": "stderr",
     "output_type": "stream",
     "text": [
      "Epoch 212, global step 21300: 'val_loss' was not in top 1\n"
     ]
    },
    {
     "data": {
      "application/vnd.jupyter.widget-view+json": {
       "model_id": "82c3cfc473754402a9351e097861ba03",
       "version_major": 2,
       "version_minor": 0
      },
      "text/plain": [
       "Validation: |          | 0/? [00:00<?, ?it/s]"
      ]
     },
     "metadata": {},
     "output_type": "display_data"
    },
    {
     "name": "stderr",
     "output_type": "stream",
     "text": [
      "Epoch 213, global step 21400: 'val_loss' was not in top 1\n"
     ]
    },
    {
     "data": {
      "application/vnd.jupyter.widget-view+json": {
       "model_id": "a50ba99398cf46549ab0b6bdf094dfe4",
       "version_major": 2,
       "version_minor": 0
      },
      "text/plain": [
       "Validation: |          | 0/? [00:00<?, ?it/s]"
      ]
     },
     "metadata": {},
     "output_type": "display_data"
    },
    {
     "name": "stderr",
     "output_type": "stream",
     "text": [
      "Epoch 214, global step 21500: 'val_loss' was not in top 1\n"
     ]
    },
    {
     "data": {
      "application/vnd.jupyter.widget-view+json": {
       "model_id": "8afadd1fd3284dd4b19ce817449a2f48",
       "version_major": 2,
       "version_minor": 0
      },
      "text/plain": [
       "Validation: |          | 0/? [00:00<?, ?it/s]"
      ]
     },
     "metadata": {},
     "output_type": "display_data"
    },
    {
     "name": "stderr",
     "output_type": "stream",
     "text": [
      "Epoch 215, global step 21600: 'val_loss' was not in top 1\n"
     ]
    },
    {
     "data": {
      "application/vnd.jupyter.widget-view+json": {
       "model_id": "3afee351e61342f89e7c4472b6837313",
       "version_major": 2,
       "version_minor": 0
      },
      "text/plain": [
       "Validation: |          | 0/? [00:00<?, ?it/s]"
      ]
     },
     "metadata": {},
     "output_type": "display_data"
    },
    {
     "name": "stderr",
     "output_type": "stream",
     "text": [
      "Epoch 216, global step 21700: 'val_loss' was not in top 1\n"
     ]
    },
    {
     "data": {
      "application/vnd.jupyter.widget-view+json": {
       "model_id": "104566c6794740b0b13222c6b9cf5123",
       "version_major": 2,
       "version_minor": 0
      },
      "text/plain": [
       "Validation: |          | 0/? [00:00<?, ?it/s]"
      ]
     },
     "metadata": {},
     "output_type": "display_data"
    },
    {
     "name": "stderr",
     "output_type": "stream",
     "text": [
      "Metric val_loss improved by 0.050 >= min_delta = 0.0. New best score: -0.736\n",
      "Epoch 217, global step 21800: 'val_loss' reached -0.73644 (best -0.73644), saving model to 'C:\\\\Users\\\\eddie\\\\OneDrive\\\\Documents\\\\GitHub\\\\NeuroPattern\\\\lag-llama\\\\model-size-scaling-logs\\\\2021\\\\experiments\\\\lightning_logs\\\\version_1\\\\checkpoints\\\\epoch=217-step=21800.ckpt' as top 1\n"
     ]
    },
    {
     "data": {
      "application/vnd.jupyter.widget-view+json": {
       "model_id": "70b636945154407aac0aae6a073d160f",
       "version_major": 2,
       "version_minor": 0
      },
      "text/plain": [
       "Validation: |          | 0/? [00:00<?, ?it/s]"
      ]
     },
     "metadata": {},
     "output_type": "display_data"
    },
    {
     "name": "stderr",
     "output_type": "stream",
     "text": [
      "Epoch 218, global step 21900: 'val_loss' was not in top 1\n"
     ]
    },
    {
     "data": {
      "application/vnd.jupyter.widget-view+json": {
       "model_id": "06a027fdcf66414294cb0fc9269bbe2d",
       "version_major": 2,
       "version_minor": 0
      },
      "text/plain": [
       "Validation: |          | 0/? [00:00<?, ?it/s]"
      ]
     },
     "metadata": {},
     "output_type": "display_data"
    },
    {
     "name": "stderr",
     "output_type": "stream",
     "text": [
      "Epoch 219, global step 22000: 'val_loss' was not in top 1\n"
     ]
    },
    {
     "data": {
      "application/vnd.jupyter.widget-view+json": {
       "model_id": "a5cb984f92bf479e8338a0768139b989",
       "version_major": 2,
       "version_minor": 0
      },
      "text/plain": [
       "Validation: |          | 0/? [00:00<?, ?it/s]"
      ]
     },
     "metadata": {},
     "output_type": "display_data"
    },
    {
     "name": "stderr",
     "output_type": "stream",
     "text": [
      "Epoch 220, global step 22100: 'val_loss' was not in top 1\n"
     ]
    },
    {
     "data": {
      "application/vnd.jupyter.widget-view+json": {
       "model_id": "54068d302c084215ac4a43a382cdb697",
       "version_major": 2,
       "version_minor": 0
      },
      "text/plain": [
       "Validation: |          | 0/? [00:00<?, ?it/s]"
      ]
     },
     "metadata": {},
     "output_type": "display_data"
    },
    {
     "name": "stderr",
     "output_type": "stream",
     "text": [
      "Epoch 221, global step 22200: 'val_loss' was not in top 1\n"
     ]
    },
    {
     "data": {
      "application/vnd.jupyter.widget-view+json": {
       "model_id": "82d4a155bbd040fd93c7e752a492f345",
       "version_major": 2,
       "version_minor": 0
      },
      "text/plain": [
       "Validation: |          | 0/? [00:00<?, ?it/s]"
      ]
     },
     "metadata": {},
     "output_type": "display_data"
    },
    {
     "name": "stderr",
     "output_type": "stream",
     "text": [
      "Epoch 222, global step 22300: 'val_loss' was not in top 1\n"
     ]
    },
    {
     "data": {
      "application/vnd.jupyter.widget-view+json": {
       "model_id": "57fe1fe31a2b4d36a32bdb985f7fe16c",
       "version_major": 2,
       "version_minor": 0
      },
      "text/plain": [
       "Validation: |          | 0/? [00:00<?, ?it/s]"
      ]
     },
     "metadata": {},
     "output_type": "display_data"
    },
    {
     "name": "stderr",
     "output_type": "stream",
     "text": [
      "Epoch 223, global step 22400: 'val_loss' was not in top 1\n"
     ]
    },
    {
     "data": {
      "application/vnd.jupyter.widget-view+json": {
       "model_id": "b088c26be1c443e087f0f2d2db4785f6",
       "version_major": 2,
       "version_minor": 0
      },
      "text/plain": [
       "Validation: |          | 0/? [00:00<?, ?it/s]"
      ]
     },
     "metadata": {},
     "output_type": "display_data"
    },
    {
     "name": "stderr",
     "output_type": "stream",
     "text": [
      "Epoch 224, global step 22500: 'val_loss' was not in top 1\n"
     ]
    },
    {
     "data": {
      "application/vnd.jupyter.widget-view+json": {
       "model_id": "6a1be2d2a68e4852b0f7c2672aee9755",
       "version_major": 2,
       "version_minor": 0
      },
      "text/plain": [
       "Validation: |          | 0/? [00:00<?, ?it/s]"
      ]
     },
     "metadata": {},
     "output_type": "display_data"
    },
    {
     "name": "stderr",
     "output_type": "stream",
     "text": [
      "Epoch 225, global step 22600: 'val_loss' was not in top 1\n"
     ]
    },
    {
     "data": {
      "application/vnd.jupyter.widget-view+json": {
       "model_id": "2bcdc44e02984f1cb4b8c501867c6bdf",
       "version_major": 2,
       "version_minor": 0
      },
      "text/plain": [
       "Validation: |          | 0/? [00:00<?, ?it/s]"
      ]
     },
     "metadata": {},
     "output_type": "display_data"
    },
    {
     "name": "stderr",
     "output_type": "stream",
     "text": [
      "Epoch 226, global step 22700: 'val_loss' was not in top 1\n"
     ]
    },
    {
     "data": {
      "application/vnd.jupyter.widget-view+json": {
       "model_id": "d8000a1a09894c2694655b6c976e4f62",
       "version_major": 2,
       "version_minor": 0
      },
      "text/plain": [
       "Validation: |          | 0/? [00:00<?, ?it/s]"
      ]
     },
     "metadata": {},
     "output_type": "display_data"
    },
    {
     "name": "stderr",
     "output_type": "stream",
     "text": [
      "Epoch 227, global step 22800: 'val_loss' was not in top 1\n"
     ]
    },
    {
     "data": {
      "application/vnd.jupyter.widget-view+json": {
       "model_id": "fb02a9abb61747e792bb56ff18337a18",
       "version_major": 2,
       "version_minor": 0
      },
      "text/plain": [
       "Validation: |          | 0/? [00:00<?, ?it/s]"
      ]
     },
     "metadata": {},
     "output_type": "display_data"
    },
    {
     "name": "stderr",
     "output_type": "stream",
     "text": [
      "Epoch 228, global step 22900: 'val_loss' was not in top 1\n"
     ]
    },
    {
     "data": {
      "application/vnd.jupyter.widget-view+json": {
       "model_id": "264aa64eadf94ea9888b866fe513f1b3",
       "version_major": 2,
       "version_minor": 0
      },
      "text/plain": [
       "Validation: |          | 0/? [00:00<?, ?it/s]"
      ]
     },
     "metadata": {},
     "output_type": "display_data"
    },
    {
     "name": "stderr",
     "output_type": "stream",
     "text": [
      "Epoch 229, global step 23000: 'val_loss' was not in top 1\n"
     ]
    },
    {
     "data": {
      "application/vnd.jupyter.widget-view+json": {
       "model_id": "73e78e5ccaf84447a4ee5a8a6aaf2aef",
       "version_major": 2,
       "version_minor": 0
      },
      "text/plain": [
       "Validation: |          | 0/? [00:00<?, ?it/s]"
      ]
     },
     "metadata": {},
     "output_type": "display_data"
    },
    {
     "name": "stderr",
     "output_type": "stream",
     "text": [
      "Epoch 230, global step 23100: 'val_loss' was not in top 1\n"
     ]
    },
    {
     "data": {
      "application/vnd.jupyter.widget-view+json": {
       "model_id": "532a2077cb564ea9b0cf678f9a89693d",
       "version_major": 2,
       "version_minor": 0
      },
      "text/plain": [
       "Validation: |          | 0/? [00:00<?, ?it/s]"
      ]
     },
     "metadata": {},
     "output_type": "display_data"
    },
    {
     "name": "stderr",
     "output_type": "stream",
     "text": [
      "Epoch 231, global step 23200: 'val_loss' was not in top 1\n"
     ]
    },
    {
     "data": {
      "application/vnd.jupyter.widget-view+json": {
       "model_id": "667bb9a4ac014284ac2cda46a62ecbeb",
       "version_major": 2,
       "version_minor": 0
      },
      "text/plain": [
       "Validation: |          | 0/? [00:00<?, ?it/s]"
      ]
     },
     "metadata": {},
     "output_type": "display_data"
    },
    {
     "name": "stderr",
     "output_type": "stream",
     "text": [
      "Epoch 232, global step 23300: 'val_loss' was not in top 1\n"
     ]
    },
    {
     "data": {
      "application/vnd.jupyter.widget-view+json": {
       "model_id": "6bc7ce5534bb4e25a19d2cc787e5d575",
       "version_major": 2,
       "version_minor": 0
      },
      "text/plain": [
       "Validation: |          | 0/? [00:00<?, ?it/s]"
      ]
     },
     "metadata": {},
     "output_type": "display_data"
    },
    {
     "name": "stderr",
     "output_type": "stream",
     "text": [
      "Epoch 233, global step 23400: 'val_loss' was not in top 1\n"
     ]
    },
    {
     "data": {
      "application/vnd.jupyter.widget-view+json": {
       "model_id": "cd28acad95a542a2be73bb7dd93934be",
       "version_major": 2,
       "version_minor": 0
      },
      "text/plain": [
       "Validation: |          | 0/? [00:00<?, ?it/s]"
      ]
     },
     "metadata": {},
     "output_type": "display_data"
    },
    {
     "name": "stderr",
     "output_type": "stream",
     "text": [
      "Epoch 234, global step 23500: 'val_loss' was not in top 1\n"
     ]
    },
    {
     "data": {
      "application/vnd.jupyter.widget-view+json": {
       "model_id": "f01543909d634eccb704f0c605ee83a7",
       "version_major": 2,
       "version_minor": 0
      },
      "text/plain": [
       "Validation: |          | 0/? [00:00<?, ?it/s]"
      ]
     },
     "metadata": {},
     "output_type": "display_data"
    },
    {
     "name": "stderr",
     "output_type": "stream",
     "text": [
      "Epoch 235, global step 23600: 'val_loss' was not in top 1\n"
     ]
    },
    {
     "data": {
      "application/vnd.jupyter.widget-view+json": {
       "model_id": "5d3aacf856be4ce3894fb3e06387c20d",
       "version_major": 2,
       "version_minor": 0
      },
      "text/plain": [
       "Validation: |          | 0/? [00:00<?, ?it/s]"
      ]
     },
     "metadata": {},
     "output_type": "display_data"
    },
    {
     "name": "stderr",
     "output_type": "stream",
     "text": [
      "Epoch 236, global step 23700: 'val_loss' was not in top 1\n"
     ]
    },
    {
     "data": {
      "application/vnd.jupyter.widget-view+json": {
       "model_id": "36dc45ad2ae540b4933a371c30cde2d9",
       "version_major": 2,
       "version_minor": 0
      },
      "text/plain": [
       "Validation: |          | 0/? [00:00<?, ?it/s]"
      ]
     },
     "metadata": {},
     "output_type": "display_data"
    },
    {
     "name": "stderr",
     "output_type": "stream",
     "text": [
      "Epoch 237, global step 23800: 'val_loss' was not in top 1\n"
     ]
    },
    {
     "data": {
      "application/vnd.jupyter.widget-view+json": {
       "model_id": "6c7dbf77fd1d49439d6675c475d076bd",
       "version_major": 2,
       "version_minor": 0
      },
      "text/plain": [
       "Validation: |          | 0/? [00:00<?, ?it/s]"
      ]
     },
     "metadata": {},
     "output_type": "display_data"
    },
    {
     "name": "stderr",
     "output_type": "stream",
     "text": [
      "Epoch 238, global step 23900: 'val_loss' was not in top 1\n"
     ]
    },
    {
     "data": {
      "application/vnd.jupyter.widget-view+json": {
       "model_id": "18ebfe375f8d4d07b04fb04a09237aee",
       "version_major": 2,
       "version_minor": 0
      },
      "text/plain": [
       "Validation: |          | 0/? [00:00<?, ?it/s]"
      ]
     },
     "metadata": {},
     "output_type": "display_data"
    },
    {
     "name": "stderr",
     "output_type": "stream",
     "text": [
      "Epoch 239, global step 24000: 'val_loss' was not in top 1\n"
     ]
    },
    {
     "data": {
      "application/vnd.jupyter.widget-view+json": {
       "model_id": "ce95d61267714212b65f012d65aff8d1",
       "version_major": 2,
       "version_minor": 0
      },
      "text/plain": [
       "Validation: |          | 0/? [00:00<?, ?it/s]"
      ]
     },
     "metadata": {},
     "output_type": "display_data"
    },
    {
     "name": "stderr",
     "output_type": "stream",
     "text": [
      "Epoch 240, global step 24100: 'val_loss' was not in top 1\n"
     ]
    },
    {
     "data": {
      "application/vnd.jupyter.widget-view+json": {
       "model_id": "ab9718d8fb5445c096fcd6757e411592",
       "version_major": 2,
       "version_minor": 0
      },
      "text/plain": [
       "Validation: |          | 0/? [00:00<?, ?it/s]"
      ]
     },
     "metadata": {},
     "output_type": "display_data"
    },
    {
     "name": "stderr",
     "output_type": "stream",
     "text": [
      "Epoch 241, global step 24200: 'val_loss' was not in top 1\n"
     ]
    },
    {
     "data": {
      "application/vnd.jupyter.widget-view+json": {
       "model_id": "f3376838067e4b27850dbb7f5b3f2f48",
       "version_major": 2,
       "version_minor": 0
      },
      "text/plain": [
       "Validation: |          | 0/? [00:00<?, ?it/s]"
      ]
     },
     "metadata": {},
     "output_type": "display_data"
    },
    {
     "name": "stderr",
     "output_type": "stream",
     "text": [
      "Epoch 242, global step 24300: 'val_loss' was not in top 1\n"
     ]
    },
    {
     "data": {
      "application/vnd.jupyter.widget-view+json": {
       "model_id": "bf69b48aef2a4411a65903836658f827",
       "version_major": 2,
       "version_minor": 0
      },
      "text/plain": [
       "Validation: |          | 0/? [00:00<?, ?it/s]"
      ]
     },
     "metadata": {},
     "output_type": "display_data"
    },
    {
     "name": "stderr",
     "output_type": "stream",
     "text": [
      "Epoch 243, global step 24400: 'val_loss' was not in top 1\n"
     ]
    },
    {
     "data": {
      "application/vnd.jupyter.widget-view+json": {
       "model_id": "76b65f13cb6f4ab6b1110fec8c91444e",
       "version_major": 2,
       "version_minor": 0
      },
      "text/plain": [
       "Validation: |          | 0/? [00:00<?, ?it/s]"
      ]
     },
     "metadata": {},
     "output_type": "display_data"
    },
    {
     "name": "stderr",
     "output_type": "stream",
     "text": [
      "Epoch 244, global step 24500: 'val_loss' was not in top 1\n"
     ]
    },
    {
     "data": {
      "application/vnd.jupyter.widget-view+json": {
       "model_id": "b48ce08d9ee140de85455f4465096e02",
       "version_major": 2,
       "version_minor": 0
      },
      "text/plain": [
       "Validation: |          | 0/? [00:00<?, ?it/s]"
      ]
     },
     "metadata": {},
     "output_type": "display_data"
    },
    {
     "name": "stderr",
     "output_type": "stream",
     "text": [
      "Epoch 245, global step 24600: 'val_loss' was not in top 1\n"
     ]
    },
    {
     "data": {
      "application/vnd.jupyter.widget-view+json": {
       "model_id": "8db27e7dee244cd1b9bd484ae0ad0624",
       "version_major": 2,
       "version_minor": 0
      },
      "text/plain": [
       "Validation: |          | 0/? [00:00<?, ?it/s]"
      ]
     },
     "metadata": {},
     "output_type": "display_data"
    },
    {
     "name": "stderr",
     "output_type": "stream",
     "text": [
      "Epoch 246, global step 24700: 'val_loss' was not in top 1\n"
     ]
    },
    {
     "data": {
      "application/vnd.jupyter.widget-view+json": {
       "model_id": "604e86ab45de4515bdecbe4049402c39",
       "version_major": 2,
       "version_minor": 0
      },
      "text/plain": [
       "Validation: |          | 0/? [00:00<?, ?it/s]"
      ]
     },
     "metadata": {},
     "output_type": "display_data"
    },
    {
     "name": "stderr",
     "output_type": "stream",
     "text": [
      "Epoch 247, global step 24800: 'val_loss' was not in top 1\n"
     ]
    },
    {
     "data": {
      "application/vnd.jupyter.widget-view+json": {
       "model_id": "177bc03cce3948de96cedb10f0e72272",
       "version_major": 2,
       "version_minor": 0
      },
      "text/plain": [
       "Validation: |          | 0/? [00:00<?, ?it/s]"
      ]
     },
     "metadata": {},
     "output_type": "display_data"
    },
    {
     "name": "stderr",
     "output_type": "stream",
     "text": [
      "Epoch 248, global step 24900: 'val_loss' was not in top 1\n"
     ]
    },
    {
     "data": {
      "application/vnd.jupyter.widget-view+json": {
       "model_id": "274bdd78ad5447bfaf7fcc7955660713",
       "version_major": 2,
       "version_minor": 0
      },
      "text/plain": [
       "Validation: |          | 0/? [00:00<?, ?it/s]"
      ]
     },
     "metadata": {},
     "output_type": "display_data"
    },
    {
     "name": "stderr",
     "output_type": "stream",
     "text": [
      "Epoch 249, global step 25000: 'val_loss' was not in top 1\n"
     ]
    },
    {
     "data": {
      "application/vnd.jupyter.widget-view+json": {
       "model_id": "4c5c336c46f04d2eb42df472902c341c",
       "version_major": 2,
       "version_minor": 0
      },
      "text/plain": [
       "Validation: |          | 0/? [00:00<?, ?it/s]"
      ]
     },
     "metadata": {},
     "output_type": "display_data"
    },
    {
     "name": "stderr",
     "output_type": "stream",
     "text": [
      "Epoch 250, global step 25100: 'val_loss' was not in top 1\n"
     ]
    },
    {
     "data": {
      "application/vnd.jupyter.widget-view+json": {
       "model_id": "1ad80dc01dd1473b94a3d53c25cac5f7",
       "version_major": 2,
       "version_minor": 0
      },
      "text/plain": [
       "Validation: |          | 0/? [00:00<?, ?it/s]"
      ]
     },
     "metadata": {},
     "output_type": "display_data"
    },
    {
     "name": "stderr",
     "output_type": "stream",
     "text": [
      "Epoch 251, global step 25200: 'val_loss' was not in top 1\n"
     ]
    },
    {
     "data": {
      "application/vnd.jupyter.widget-view+json": {
       "model_id": "d8fc67fed3d0402cac4a8c01ccb15b16",
       "version_major": 2,
       "version_minor": 0
      },
      "text/plain": [
       "Validation: |          | 0/? [00:00<?, ?it/s]"
      ]
     },
     "metadata": {},
     "output_type": "display_data"
    },
    {
     "name": "stderr",
     "output_type": "stream",
     "text": [
      "Epoch 252, global step 25300: 'val_loss' was not in top 1\n"
     ]
    },
    {
     "data": {
      "application/vnd.jupyter.widget-view+json": {
       "model_id": "16a21f601d0a4853bf5cc9705451e4a8",
       "version_major": 2,
       "version_minor": 0
      },
      "text/plain": [
       "Validation: |          | 0/? [00:00<?, ?it/s]"
      ]
     },
     "metadata": {},
     "output_type": "display_data"
    },
    {
     "name": "stderr",
     "output_type": "stream",
     "text": [
      "Epoch 253, global step 25400: 'val_loss' was not in top 1\n"
     ]
    },
    {
     "data": {
      "application/vnd.jupyter.widget-view+json": {
       "model_id": "a4d7fd40f61b4b428b4c02ad9ee6a11b",
       "version_major": 2,
       "version_minor": 0
      },
      "text/plain": [
       "Validation: |          | 0/? [00:00<?, ?it/s]"
      ]
     },
     "metadata": {},
     "output_type": "display_data"
    },
    {
     "name": "stderr",
     "output_type": "stream",
     "text": [
      "Epoch 254, global step 25500: 'val_loss' was not in top 1\n"
     ]
    },
    {
     "data": {
      "application/vnd.jupyter.widget-view+json": {
       "model_id": "3e877b0bd2b04376b8afb85380150638",
       "version_major": 2,
       "version_minor": 0
      },
      "text/plain": [
       "Validation: |          | 0/? [00:00<?, ?it/s]"
      ]
     },
     "metadata": {},
     "output_type": "display_data"
    },
    {
     "name": "stderr",
     "output_type": "stream",
     "text": [
      "Epoch 255, global step 25600: 'val_loss' was not in top 1\n"
     ]
    },
    {
     "data": {
      "application/vnd.jupyter.widget-view+json": {
       "model_id": "82143c8c789543e4b364a8e9610fc731",
       "version_major": 2,
       "version_minor": 0
      },
      "text/plain": [
       "Validation: |          | 0/? [00:00<?, ?it/s]"
      ]
     },
     "metadata": {},
     "output_type": "display_data"
    },
    {
     "name": "stderr",
     "output_type": "stream",
     "text": [
      "Epoch 256, global step 25700: 'val_loss' was not in top 1\n"
     ]
    },
    {
     "data": {
      "application/vnd.jupyter.widget-view+json": {
       "model_id": "d6840bd79fb54e838c88e8d1001ad137",
       "version_major": 2,
       "version_minor": 0
      },
      "text/plain": [
       "Validation: |          | 0/? [00:00<?, ?it/s]"
      ]
     },
     "metadata": {},
     "output_type": "display_data"
    },
    {
     "name": "stderr",
     "output_type": "stream",
     "text": [
      "Epoch 257, global step 25800: 'val_loss' was not in top 1\n"
     ]
    },
    {
     "data": {
      "application/vnd.jupyter.widget-view+json": {
       "model_id": "05f3d44db7ab4158b66fbbc4aea39954",
       "version_major": 2,
       "version_minor": 0
      },
      "text/plain": [
       "Validation: |          | 0/? [00:00<?, ?it/s]"
      ]
     },
     "metadata": {},
     "output_type": "display_data"
    },
    {
     "name": "stderr",
     "output_type": "stream",
     "text": [
      "Epoch 258, global step 25900: 'val_loss' was not in top 1\n"
     ]
    },
    {
     "data": {
      "application/vnd.jupyter.widget-view+json": {
       "model_id": "4ff3293aedb94d6cada5e51f85de652d",
       "version_major": 2,
       "version_minor": 0
      },
      "text/plain": [
       "Validation: |          | 0/? [00:00<?, ?it/s]"
      ]
     },
     "metadata": {},
     "output_type": "display_data"
    },
    {
     "name": "stderr",
     "output_type": "stream",
     "text": [
      "Epoch 259, global step 26000: 'val_loss' was not in top 1\n"
     ]
    },
    {
     "data": {
      "application/vnd.jupyter.widget-view+json": {
       "model_id": "27ea3e3c9c3f417f95c4d5bb1af4e614",
       "version_major": 2,
       "version_minor": 0
      },
      "text/plain": [
       "Validation: |          | 0/? [00:00<?, ?it/s]"
      ]
     },
     "metadata": {},
     "output_type": "display_data"
    },
    {
     "name": "stderr",
     "output_type": "stream",
     "text": [
      "Epoch 260, global step 26100: 'val_loss' was not in top 1\n"
     ]
    },
    {
     "data": {
      "application/vnd.jupyter.widget-view+json": {
       "model_id": "633bc7592d5045b5bb79dc48782504fe",
       "version_major": 2,
       "version_minor": 0
      },
      "text/plain": [
       "Validation: |          | 0/? [00:00<?, ?it/s]"
      ]
     },
     "metadata": {},
     "output_type": "display_data"
    },
    {
     "name": "stderr",
     "output_type": "stream",
     "text": [
      "Epoch 261, global step 26200: 'val_loss' was not in top 1\n"
     ]
    },
    {
     "data": {
      "application/vnd.jupyter.widget-view+json": {
       "model_id": "6102e6d0255a454f9aa7963dd3b2c679",
       "version_major": 2,
       "version_minor": 0
      },
      "text/plain": [
       "Validation: |          | 0/? [00:00<?, ?it/s]"
      ]
     },
     "metadata": {},
     "output_type": "display_data"
    },
    {
     "name": "stderr",
     "output_type": "stream",
     "text": [
      "Epoch 262, global step 26300: 'val_loss' was not in top 1\n"
     ]
    },
    {
     "data": {
      "application/vnd.jupyter.widget-view+json": {
       "model_id": "160570e7af354274a76cc32458c0de67",
       "version_major": 2,
       "version_minor": 0
      },
      "text/plain": [
       "Validation: |          | 0/? [00:00<?, ?it/s]"
      ]
     },
     "metadata": {},
     "output_type": "display_data"
    },
    {
     "name": "stderr",
     "output_type": "stream",
     "text": [
      "Epoch 263, global step 26400: 'val_loss' was not in top 1\n"
     ]
    },
    {
     "data": {
      "application/vnd.jupyter.widget-view+json": {
       "model_id": "8425c02ed079464b8776651b0086a5dc",
       "version_major": 2,
       "version_minor": 0
      },
      "text/plain": [
       "Validation: |          | 0/? [00:00<?, ?it/s]"
      ]
     },
     "metadata": {},
     "output_type": "display_data"
    },
    {
     "name": "stderr",
     "output_type": "stream",
     "text": [
      "Epoch 264, global step 26500: 'val_loss' was not in top 1\n"
     ]
    },
    {
     "data": {
      "application/vnd.jupyter.widget-view+json": {
       "model_id": "2dff495bb33c4ab691e12acdef758dea",
       "version_major": 2,
       "version_minor": 0
      },
      "text/plain": [
       "Validation: |          | 0/? [00:00<?, ?it/s]"
      ]
     },
     "metadata": {},
     "output_type": "display_data"
    },
    {
     "name": "stderr",
     "output_type": "stream",
     "text": [
      "Epoch 265, global step 26600: 'val_loss' was not in top 1\n"
     ]
    },
    {
     "data": {
      "application/vnd.jupyter.widget-view+json": {
       "model_id": "c7ba85593b9c4675a5b7628b797c8fb1",
       "version_major": 2,
       "version_minor": 0
      },
      "text/plain": [
       "Validation: |          | 0/? [00:00<?, ?it/s]"
      ]
     },
     "metadata": {},
     "output_type": "display_data"
    },
    {
     "name": "stderr",
     "output_type": "stream",
     "text": [
      "Epoch 266, global step 26700: 'val_loss' was not in top 1\n"
     ]
    },
    {
     "data": {
      "application/vnd.jupyter.widget-view+json": {
       "model_id": "ce926d9479b8404db4ea90de79cc0f90",
       "version_major": 2,
       "version_minor": 0
      },
      "text/plain": [
       "Validation: |          | 0/? [00:00<?, ?it/s]"
      ]
     },
     "metadata": {},
     "output_type": "display_data"
    },
    {
     "name": "stderr",
     "output_type": "stream",
     "text": [
      "Monitored metric val_loss did not improve in the last 50 records. Best score: -0.736. Signaling Trainer to stop.\n",
      "Epoch 267, global step 26800: 'val_loss' was not in top 1\n"
     ]
    },
    {
     "name": "stdout",
     "output_type": "stream",
     "text": [
      "Use checkpoint: C:\\Users\\eddie\\OneDrive\\Documents\\GitHub\\NeuroPattern\\lag-llama\\model-size-scaling-logs\\2021\\experiments/lightning_logs/version_1/checkpoints\\epoch=182-step=18300.ckpt\n",
      "Predict on covid_weekly\n",
      "window_size 13590\n",
      "i 0\n",
      "i 4\n",
      "i 8\n",
      "i 12\n",
      "i 16\n",
      "i 20\n",
      "i 24\n",
      "i 28\n",
      "i 32\n",
      "i 36\n",
      "i 40\n",
      "i 44\n",
      "i 48\n",
      "i 52\n",
      "i 56\n",
      "i 60\n",
      "i 64\n",
      "i 68\n",
      "i 72\n",
      "i 76\n",
      "i 80\n",
      "i 84\n",
      "i 88\n",
      "i 92\n",
      "i 96\n",
      "i 100\n",
      "i 104\n",
      "i 108\n",
      "i 112\n",
      "i 116\n",
      "i 120\n",
      "i 124\n",
      "i 128\n",
      "i 132\n",
      "i 136\n",
      "i 140\n",
      "i 144\n",
      "i 148\n",
      "i 152\n",
      "i 156\n",
      "i 160\n",
      "i 164\n",
      "target: [  15.   42.  224. 1337.]\n",
      "start: 2019-01-01\n",
      "target: [ 5753. 13024. 15803. 15132.]\n",
      "start: 2019-01-05\n",
      "target: [13785. 13053. 10239.  8297.]\n",
      "start: 2019-01-09\n",
      "target: [7569. 6162. 5511. 4435.]\n",
      "start: 2019-01-13\n",
      "target: [6130. 4347. 5375. 6549.]\n",
      "start: 2019-01-17\n",
      "target: [7523. 8061. 7851. 7674.]\n",
      "start: 2019-01-21\n",
      "target: [6717. 6315. 5836. 5018.]\n",
      "start: 2019-01-25\n",
      "target: [5236. 4801. 4558. 4730.]\n",
      "start: 2019-01-29\n",
      "target: [4713. 5684. 6107. 6852.]\n",
      "start: 2019-02-02\n",
      "target: [ 8706. 10132. 12251. 13866.]\n",
      "start: 2019-02-06\n",
      "target: [17119. 19105. 19045. 18838.]\n",
      "start: 2019-02-10\n",
      "target: [20835. 23639. 22200. 22662.]\n",
      "start: 2019-02-14\n",
      "target: [19967. 18176. 17171. 13716.]\n",
      "start: 2019-02-18\n",
      "target: [10488.  8992.  6677.  6147.]\n",
      "start: 2019-02-22\n",
      "target: [5552. 4881. 4932. 4693.]\n",
      "start: 2019-02-26\n",
      "target: [4522. 4451. 4078. 3676.]\n",
      "start: 2019-03-02\n",
      "target: [3480. 2792. 2807. 1893.]\n",
      "start: 2019-03-06\n",
      "target: [1961. 1825. 1497. 1877.]\n",
      "start: 2019-03-10\n",
      "target: [2040. 2816. 4140. 5279.]\n",
      "start: 2019-03-14\n",
      "target: [ 7695.  9902. 11573. 11766.]\n",
      "start: 2019-03-18\n",
      "target: [13543. 13258. 13246. 11642.]\n",
      "start: 2019-03-22\n",
      "target: [10677. 11168.  9086.  7583.]\n",
      "start: 2019-03-26\n",
      "target: [ 7409. 10348.  6789.  7226.]\n",
      "start: 2019-03-30\n",
      "target: [ 8256.  9002. 11667.  9170.]\n",
      "start: 2019-04-03\n",
      "target: [10594. 13844. 15510. 18599.]\n",
      "start: 2019-04-07\n",
      "target: [18833. 18082. 15956. 13064.]\n",
      "start: 2019-04-11\n",
      "target: [10400.  8738.  6147.  5187.]\n",
      "start: 2019-04-15\n",
      "target: [4346. 3180. 3468. 2645.]\n",
      "start: 2019-04-19\n",
      "target: [2093. 2646. 2020. 2034.]\n",
      "start: 2019-04-23\n",
      "target: [2528. 2098. 2354. 2201.]\n",
      "start: 2019-04-27\n",
      "target: [2373. 2615. 2452. 2862.]\n",
      "start: 2019-05-01\n",
      "target: [3024. 3117. 3281. 3392.]\n",
      "start: 2019-05-05\n",
      "target: [3278. 3171. 3222. 2562.]\n",
      "start: 2019-05-09\n",
      "target: [3125. 2729. 2978. 2575.]\n",
      "start: 2019-05-13\n",
      "target: [2347. 3216. 3081. 2463.]\n",
      "start: 2019-05-17\n",
      "target: [2290. 2202. 2619. 1763.]\n",
      "start: 2019-05-21\n",
      "target: [3035. 2652. 3033. 2480.]\n",
      "start: 2019-05-25\n",
      "target: [2764. 4407. 3664. 3743.]\n",
      "start: 2019-05-29\n",
      "target: [3452. 3440. 2857. 2362.]\n",
      "start: 2019-06-02\n",
      "target: [2197. 1887. 1741. 2084.]\n",
      "start: 2019-06-06\n",
      "target: [1746. 1737. 1729. 1290.]\n",
      "start: 2019-06-10\n",
      "target: [1198. 1046. 1146. 1943.]\n",
      "start: 2019-06-14\n",
      "HEEEEEEEEEEER 2019-01-03\n"
     ]
    },
    {
     "data": {
      "image/png": "[encoded data removed]",
      "text/plain": [
       "<Figure size 2000x1500 with 1 Axes>"
      ]
     },
     "metadata": {},
     "output_type": "display_data"
    }
   ],
   "source": [
    "import argparse\n",
    "from pathlib import Path\n",
    "import pathlib\n",
    "from glob import glob\n",
    "from hashlib import sha1\n",
    "import json\n",
    "import os\n",
    "import random\n",
    "from itertools import islice\n",
    "import numpy as np\n",
    "import torch\n",
    "import pytorch_lightning as L\n",
    "from pytorch_lightning.loggers import CSVLogger\n",
    "from pytorch_lightning.callbacks import EarlyStopping, ModelCheckpoint\n",
    "# Use this import style for PyTorch Lightning\n",
    "from pytorch_lightning import Trainer\n",
    "import pandas as pd\n",
    "import numpy as np\n",
    "import sys\n",
    "from itertools import islice\n",
    "from gluonts.dataset.common import ListDataset\n",
    "from gluonts.evaluation import make_evaluation_predictions, Evaluator\n",
    "from gluonts.evaluation._base import aggregate_valid\n",
    "from gluonts.dataset.repository.datasets import get_dataset\n",
    "from gluonts.dataset.common import ListDataset\n",
    "from gluonts.transform import ValidationSplitSampler\n",
    "import matplotlib.ticker as ticker\n",
    "\n",
    "from estimator import LagLlamaEstimator\n",
    "import matplotlib.pyplot as plt\n",
    "\n",
    "\n",
    "dataset_path = Path(\"../datasets_small\")\n",
    "test_dataset_path = Path(\"../test_data\")\n",
    "\n",
    "\n",
    "TRAIN_DATASET_NAMES = [\n",
    "    \"airpassengers\",\n",
    "    \"australian_electricity_demand\",##\n",
    "    \"car_parts_without_missing\", ##\n",
    "    \"cif_2016\", ##\n",
    "   ## \"covid_deaths\",##\n",
    "    \"electricity\",\n",
    "    \"electricity_weekly\",##\n",
    "    \"exchange_rate\",\n",
    "    \"fred_md\",##\n",
    "    \"hospital\",##\n",
    "    \"kaggle_web_traffic_weekly\", # daily ##\n",
    "    \"kdd_cup_2018_without_missing\",##\n",
    "    \"london_smart_meters_without_missing\",##\n",
    "    \"nn5_daily_with_missing\",##\n",
    "    \"nn5_weekly\",##\n",
    "    \"pedestrian_counts\",##\n",
    "    \"rideshare_without_missing\",##\n",
    "    \"saugeenday\",\n",
    "    \"solar-energy\",\n",
    "    \"solar_10_minutes\",##\n",
    "    \"solar_weekly\",##\n",
    "    \"taxi_30min\",\n",
    "    \"temperature_rain_without_missing\",##\n",
    "    \"tourism_monthly\", ##\n",
    "    \"uber_tlc_daily\",\n",
    "    \"uber_tlc_hourly\",\n",
    "    \"vehicle_trips_without_missing\",##\n",
    "    \"weather\",\n",
    "    \"wiki-rolling_nips\",\n",
    "    \"m4_daily\",##\n",
    "    \"m4_hourly\",##\n",
    "    \"m4_monthly\",##\n",
    "    \"m4_quarterly\",\n",
    "    \"m4_yearly\",##\n",
    "    \"wind_farms_without_missing\",##\n",
    "]\n",
    "\n",
    "class CombinedDatasetIterator:\n",
    "    def __init__(self, datasets, seed, weights):\n",
    "        self._datasets = [iter(el) for el in datasets]\n",
    "        self._weights = weights\n",
    "        self._rng = random.Random(seed)\n",
    "\n",
    "    def __next__(self):\n",
    "        (dataset,) = self._rng.choices(self._datasets, weights=self._weights, k=1)\n",
    "        return next(dataset)\n",
    "\n",
    "class CombinedDataset:\n",
    "    def __init__(self, datasets, seed=None, weights=None):\n",
    "        self._seed = seed\n",
    "        self._datasets = datasets\n",
    "        self._weights = weights\n",
    "        n_datasets = len(datasets)\n",
    "        if weights is None:\n",
    "            self._weights = [1 / n_datasets] * n_datasets\n",
    "\n",
    "    def __iter__(self):\n",
    "        return CombinedDatasetIterator(self._datasets, self._seed, self._weights)\n",
    "\n",
    "    def __len__(self):\n",
    "        return sum([len(ds) for ds in self._datasets])\n",
    "\n",
    "def create_sliding_window_dataset(name, window_size, is_train=True):\n",
    "    # Splits each time series into non-overlapping sliding windows\n",
    "    global_id = 0\n",
    "\n",
    "    freq = get_dataset(name, path=dataset_path).metadata.freq\n",
    "    data = ListDataset([], freq=freq)\n",
    "    dataset = get_dataset(name, path=dataset_path).train if is_train else get_dataset(name, path=dataset_path).test\n",
    "\n",
    "    for x in dataset:\n",
    "        windows = []\n",
    "        for i in range(0, len(x['target']), window_size):\n",
    "            windows.append({\n",
    "                'target': x['target'][i:i+window_size],\n",
    "                'start': x['start'] + i,\n",
    "                'item_id': str(global_id),\n",
    "                'feat_static_cat': np.array([0]),\n",
    "            })\n",
    "            global_id += 1\n",
    "        data += ListDataset(windows, freq=freq)\n",
    "    return data\n",
    "\n",
    "def create_test_dataset(name, window_size, pred_length, fr):\n",
    "    # Similar to `create_sliding_window_dataset` but for test dataset\n",
    "    prediction_length = pred_length\n",
    "    freq = fr\n",
    "    global_id = 0\n",
    "    data = ListDataset([], freq=freq)\n",
    "\n",
    "    df = pd.read_csv('../test_data/' + name + '.csv')  \n",
    "    # Convert the DataFrame into a numpy array\n",
    "    custom_dataset = df.values\n",
    "    custom_dataset = custom_dataset.reshape(1, 168) \n",
    "\n",
    "    start = pd.Period(\"01-01-2019\", freq=fr)  # can be different for each time series\n",
    "    #train_ds = ListDataset(\n",
    "    #[{\"target\": x, \"start\": start} for x in custom_dataset[:, :-prediction_length]],\n",
    "    #freq=freq,\n",
    "    #)\n",
    "    # test dataset: use the whole dataset, add \"target\" and \"start\" fields\n",
    "    test_ds = ListDataset(\n",
    "        [{\"target\": x, \"start\": start} for x in custom_dataset], freq=freq\n",
    "    )\n",
    "    window_size = 4\n",
    "    j = 0\n",
    "    for x in test_ds:\n",
    "        windows = []\n",
    "        for i in range(0, len(x['target']), window_size):\n",
    "            print(\"i\", i)\n",
    "            j = 0\n",
    "            #while j < window_size:\n",
    "            windows.append({\n",
    "                'target': x['target'][i+j:i+window_size+j],\n",
    "                'start': x['start'] + i+j,\n",
    "                'item_id': str(global_id),\n",
    "                'feat_static_cat': np.array([0]),\n",
    "            })\n",
    "                #j += 1\n",
    "            \n",
    "            global_id += 1\n",
    "        data += ListDataset(windows, freq=freq)\n",
    "        for window in windows:\n",
    "                print(\"target:\", window['target'])\n",
    "                print(\"start:\", window['start'])\n",
    "\n",
    "    return data\n",
    "\n",
    "\n",
    "\n",
    "    #data = []\n",
    "    #for x in test_ds:\n",
    "    #    offset = len(x['target']) - window_size - prediction_length\n",
    "    #    if offset > 0:\n",
    "    #        target = x['target'][-(window_size + prediction_length):]\n",
    "    #        data.append({\n",
    "    #            'target': target,\n",
    "    #            'start': x['start'] + offset,\n",
    "    #        })\n",
    "    #    else:\n",
    "    #        data.append(x)\n",
    "    #        \n",
    "    #print(\"data\", data)\n",
    "    #print(ListDataset(data, freq=freq))\n",
    "    #return  ListDataset(data, freq=freq), prediction_length\n",
    "\n",
    "def train(args):\n",
    "    random.seed(args.seed)\n",
    "    np.random.seed(args.seed)\n",
    "    torch.manual_seed(args.seed)\n",
    "    L.seed_everything(args.seed)\n",
    "\n",
    "    #experiment_name = f'data-scaling-context-{args.context_length}-layer-{args.n_layer}-n_embd-{args.n_embd}-n_head-{args.n_head}-aug-{args.aug_prob}-{args.aug_rate}'\n",
    "    fulldir = os.path.join(pathlib.Path().parent.resolve(), \"model-size-scaling-logs\", str(args.seed)) # Always creates the experiment directory inside \"lag-llama\"\n",
    "    os.makedirs(fulldir, exist_ok=True)\n",
    "    fulldir_experiments = os.path.join(fulldir, \"experiments\")\n",
    "    os.makedirs(fulldir_experiments, exist_ok=True)\n",
    "    print(\"fulldire\", fulldir)\n",
    "    \n",
    "    \n",
    "    # Code to retrieve the version with the highest #epoch stored and restore it incl directory and its checkpoint\n",
    "    lightning_version_to_use, ckpt_path = None, None\n",
    "    max_epoch = -1\n",
    "    if \"lightning_logs\" in os.listdir(fulldir_experiments):\n",
    "        for lightning_version in os.listdir(fulldir_experiments+\"/lightning_logs/\"):\n",
    "            ckpts = glob(fulldir_experiments+\"/lightning_logs/\" + lightning_version + \"/checkpoints/*.ckpt\")\n",
    "            if len(ckpts): \n",
    "                epoch = int(ckpts[0][ckpts[0].find(\"=\")+1:ckpts[0].find(\"-step\")])\n",
    "                if epoch > max_epoch:\n",
    "                    lightning_version_to_use = lightning_version\n",
    "                    max_epoch = epoch\n",
    "                    ckpt_path = ckpts[0]\n",
    "        if lightning_version_to_use: print(\"Using lightning_version\", lightning_version_to_use, \"with epoch\", max_epoch, \"restoring from checkpoint at path\", ckpt_path)\n",
    "    else: print (\"no lightning logs found. Training from scratch.\")\n",
    "    \n",
    "    logger = CSVLogger(\n",
    "        save_dir=fulldir_experiments,\n",
    "        flush_logs_every_n_steps=1,\n",
    "        version=lightning_version_to_use\n",
    "    )\n",
    "\n",
    "    early_stop_callback = EarlyStopping(monitor=\"val_loss\", min_delta=0.00, patience=int(args.early_stopping_patience), verbose=True, mode=\"min\")\n",
    "    model_checkpointing = ModelCheckpoint(save_top_k=1)\n",
    "    callbacks = [early_stop_callback, model_checkpointing]\n",
    "\n",
    "    estimators = LagLlamaEstimator(\n",
    "        prediction_length=10,\n",
    "        context_length=args.context_length,\n",
    "        batch_size=args.batch_size,\n",
    "        n_layer=args.n_layer,\n",
    "        n_head=args.n_head,\n",
    "        n_embd=args.n_embd,\n",
    "        scaling=\"std\",\n",
    "        aug_prob=args.aug_prob,\n",
    "        aug_rate=args.aug_rate,\n",
    "        num_batches_per_epoch=args.num_batches_per_epoch,\n",
    "        ckpt_path=ckpt_path,\n",
    "        trainer_kwargs=dict(\n",
    "            max_epochs=args.max_epochs,\n",
    "            accelerator=\"gpu\",\n",
    "            devices=[args.gpu],\n",
    "            limit_val_batches=args.limit_val_batches,\n",
    "            logger=logger,\n",
    "            callbacks=callbacks,\n",
    "            default_root_dir=fulldir_experiments\n",
    "        ),\n",
    "    )\n",
    "    \n",
    "    num_parameters = sum(p.numel() for p in estimators.create_lightning_module().parameters())\n",
    "    print(\"num_parameters : \", num_parameters)\n",
    "\n",
    "    window_size = estimators.context_length + max(estimators.lags_seq) + estimators.prediction_length\n",
    "    # Here we make a window slightly bigger so that instance sampler can sample from each window\n",
    "    # An alternative is to have exact size and use different instance sampler (e.g. ValidationSplitSampler)\n",
    "    window_size = 10 * window_size\n",
    "\n",
    "    # We change ValidationSplitSampler to add min_past\n",
    "    estimators.validation_sampler = ValidationSplitSampler(\n",
    "        min_past=estimators.context_length + max(estimators.lags_seq),\n",
    "        min_future=estimators.prediction_length,\n",
    "    )\n",
    "\n",
    "    if args.test:\n",
    "        print('Testing only')\n",
    "        \n",
    "    else:\n",
    "        # Create training data\n",
    "        train_data, val_data = [], []\n",
    "        for name in TRAIN_DATASET_NAMES:\n",
    "            new_data = create_sliding_window_dataset(name, window_size)\n",
    "            train_data.append(new_data)\n",
    "\n",
    "            new_data = create_sliding_window_dataset(name, window_size, is_train=False)\n",
    "            val_data.append(new_data)\n",
    "        # Here weights are proportional to the number of time series (=sliding windows)\n",
    "        weights = [len(x) for x in train_data]\n",
    "        # Here weights are proportinal to the number of individual points in all time series\n",
    "        # weights = [sum([len(x[\"target\"]) for x in d]) for d in train_data]\n",
    "\n",
    "        train_data = CombinedDataset(train_data, weights=weights)\n",
    "        val_data = CombinedDataset(val_data, weights=weights)\n",
    "\n",
    "        # Train\n",
    "        # TODO: Depending on the stopping criterion, saved checkpoint will be based on validation\n",
    "        # and the test set for these datasets will be the same (doesn't impact zero-shot experiment)\n",
    "        train_output = estimators.train_model(\n",
    "            training_data=train_data,\n",
    "            validation_data=val_data,\n",
    "            ckpt_path=ckpt_path\n",
    "        )\n",
    "\n",
    "    #estimator.ckpt_path = train_output.trainer.checkpoint_callback.best_model_path\n",
    "    print(f'Use checkpoint: {estimators.ckpt_path}')\n",
    "    \n",
    "    ## TEST DATASET #################################################################################\n",
    "\n",
    "    freq = \"1D\"\n",
    "    prediction_length = 6\n",
    "    ## TEST DATASET #################################################################################\n",
    "\n",
    "    # for name in ['m4_weekly', 'traffic'] + TRAIN_DATASET_NAMES:\n",
    "    #for name in ['m4_weekly', 'traffic'] + TRAIN_DATASET_NAMES[0:5]:\n",
    "    for name in ['covid_weekly']:\n",
    "        print(f'Predict on {name}')\n",
    "        print(\"window_size\", window_size)\n",
    "        \n",
    "        test_data = create_test_dataset(name, window_size, prediction_length, freq)\n",
    "        #print(f'{name} prediction length: {prediction_length}')       \n",
    "        \n",
    "        # Adapt evaluator to new dataset\n",
    "        estimators.prediction_length = prediction_length\n",
    "        #estimators.batch_size = max(30 // estimators.prediction_length, 1) # Some heuristic for GPU memory (TODO: change)\n",
    "        predictor = estimators.create_predictor(\n",
    "            estimators.create_transformation(),\n",
    "            estimators.create_lightning_module(),\n",
    "        )\n",
    "        ## Make evaluations\n",
    "        \n",
    "        plt.figure(figsize=(20, 15))\n",
    "        plt.rcParams.update({\"font.size\": 15})\n",
    "\n",
    "        # Iterate over each window in the test data\n",
    "        for idx, window in enumerate(test_data):\n",
    "            # Generate predictions for the window\n",
    "            forecast_it, ts_it = make_evaluation_predictions(\n",
    "                dataset=[window],  # Pass the window as a one-item list\n",
    "                predictor=predictor,\n",
    "            )\n",
    "            forecasts = list(forecast_it)\n",
    "            tss = list(ts_it)\n",
    "\n",
    "            # Plot the actual and predicted values\n",
    "            #ax = plt.subplot(3, 3, idx + 1)\n",
    "            plt.plot(tss[0].to_timestamp(), label=\"truth\", color=\"orange\")\n",
    "            #plt.plot(forecasts[0].to_timestamp(), label=\"target\")\n",
    "            forecasts[0].plot()\n",
    "            \n",
    "            \n",
    "            print(\"HEEEEEEEEEEER\", forecasts[0].start_date)\n",
    "            plt.xticks(rotation=90)\n",
    "            \n",
    "            break\n",
    "\n",
    "        plt.gcf().tight_layout()\n",
    "        plt.legend()\n",
    "        plt.show()\n",
    "        #forecast_it, ts_it = make_evaluation_predictions(\n",
    "        #    dataset=test_data,\n",
    "        #    predictor=predictor,\n",
    "        #)\n",
    "#\n",
    "        #forecasts = list(forecast_it)\n",
    "        #tss = list(ts_it)\n",
    "#\n",
    "        #plt.figure(figsize=(20, 15))\n",
    "        #plt.rcParams.update({\"font.size\": 15})\n",
    "#\n",
    "        #for idx, (forecast, ts) in islice(enumerate(zip(forecasts, tss)), 1):\n",
    "        #    ax = plt.subplot(3, 3, idx + 1)\n",
    "        #    plt.plot(ts.to_timestamp(), label=\"target\")  # Modify this line\n",
    "        #    forecast.plot()\n",
    "        #    plt.xticks(rotation=60)\n",
    "#\n",
    "        #plt.gcf().tight_layout()\n",
    "        #plt.legend()\n",
    "        #plt.show()\n",
    "\n",
    "        #forecast_it, ts_it = make_evaluation_predictions(\n",
    "        #    dataset=test_data,\n",
    "        #    predictor=predictor,\n",
    "        #)\n",
    "        ##\n",
    "        #forecasts = list(forecast_it)\n",
    "        #tss = list(ts_it)\n",
    "        #\n",
    "#\n",
    "        #\n",
    "        #plt.figure(figsize=(20, 15))\n",
    "        #plt.rcParams.update({\"font.size\": 15})\n",
    "#\n",
    "        #for idx, (forecast, ts) in islice(enumerate(zip(forecasts, tss)), 1):\n",
    "        #    ax = plt.subplot(3, 3, idx + 1)\n",
    "        #    plt.plot(ts.to_timestamp(), label=\"target\")  # Modify this line\n",
    "        #    forecast.plot()\n",
    "        #    plt.xticks(rotation=60)\n",
    "#\n",
    "        #plt.gcf().tight_layout()\n",
    "        #plt.legend()\n",
    "        #plt.show()\n",
    "\n",
    "        #evaluator = Evaluator(num_workers=1, aggregation_strategy=aggregate_valid)\n",
    "        #agg_metrics, _ = evaluator(\n",
    "        #    iter(tss), iter(forecasts), num_series=len(test_data)\n",
    "        #)\n",
    "        #\n",
    "        #agg_metrics[\"trainable_parameters\"] = num_parameters\n",
    "        #agg_metrics[\"n_layer\"] = args.n_layer\n",
    "        #agg_metrics[\"n_embd\"] = args.n_embd\n",
    "        #agg_metrics[\"n_head\"] = args.n_head\n",
    "#\n",
    "        #print(\"logger.log_dir : \", logger.log_dir)\n",
    "        #print(\"os.path.exists(logger.log_dir) : \", os.path.exists(logger.log_dir))\n",
    "#\n",
    "        #if not os.path.exists(logger.log_dir):\n",
    "        #    os.makedirs(logger.log_dir)\n",
    "        #with open(f'{logger.log_dir}/{name}.json', 'w') as f:\n",
    "        #    json.dump(agg_metrics, f)\n",
    "\n",
    "\n",
    "import torch\n",
    "print(\"IS CUDA AVAILABLE\")\n",
    "print(torch.cuda.is_available())\n",
    "parser = argparse.ArgumentParser(allow_abbrev=False)\n",
    "\n",
    "#estimator args\n",
    "parser.add_argument(\"--seed\", type=int,  default=2021)\n",
    "parser.add_argument(\"--context_length\", type=int, default=256)\n",
    "parser.add_argument(\"--n_layer\", type=int, default=4)\n",
    "parser.add_argument(\"--n_embd\", type=int, default=256)\n",
    "parser.add_argument(\"--n_head\", type=int, default=4)\n",
    "parser.add_argument(\"--aug_prob\", type=float, default=0.5)\n",
    "parser.add_argument(\"--aug_rate\", type=float, default=0.1)\n",
    "parser.add_argument(\"--batch_size\", type=int, default=100)\n",
    "parser.add_argument(\"--num_batches_per_epoch\", type=int, default=100)\n",
    "# estimator trainer kwarg args\n",
    "parser.add_argument(\"--limit_val_batches\", type=int, default=10)\n",
    "parser.add_argument(\"--max_epochs\", type=int, default=500)\n",
    "parser.add_argument(\"--gpu\", type=int, default=0)\n",
    "# Other args\n",
    "\n",
    "parser.add_argument('--test', default=False)\n",
    "\n",
    "\n",
    "#parser.add_argument('--test', action='store_true')\n",
    "parser.add_argument('--early_stopping_patience', default=50)\n",
    "# Model\n",
    "\n",
    "parser.add_argument('--use_gpu', type=bool, default=True, help='use gpu')\n",
    "\n",
    "args, unknown_args = parser.parse_known_args()\n",
    "\n",
    "# Ignore unknown arguments\n",
    "if unknown_args:\n",
    "    print(f\"Ignored unknown arguments: {unknown_args}\")\n",
    "    \n",
    "    \n",
    "# Use a placeholder filename for notebooks\n",
    "file_path = \"notebook\" if \"__file__\" not in globals() else pathlib.Path(__file__).parent.resolve()\n",
    "print(\"ARGS teest\")\n",
    "print(file_path)\n",
    "\n",
    "args.use_gpu = True if torch.cuda.is_available() and args.use_gpu else False\n",
    "train(args)"
   ]
  }
 ],
 "metadata": {
  "kernelspec": {
   "display_name": "Python 3",
   "language": "python",
   "name": "python3"
  },
  "language_info": {
   "codemirror_mode": {
    "name": "ipython",
    "version": 3
   },
   "file_extension": ".py",
   "mimetype": "text/x-python",
   "name": "python",
   "nbconvert_exporter": "python",
   "pygments_lexer": "ipython3",
   "version": "3.11.5"
  }
 },
 "nbformat": 4,
 "nbformat_minor": 2
}
