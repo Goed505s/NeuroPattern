{
 "cells": [
  {
   "cell_type": "code",
   "execution_count": 1,
   "metadata": {},
   "outputs": [
    {
     "name": "stderr",
     "output_type": "stream",
     "text": [
      "Seed set to 2021\n"
     ]
    },
    {
     "name": "stdout",
     "output_type": "stream",
     "text": [
      "IS CUDA AVAILABLE\n",
      "True\n",
      "Ignored unknown arguments: ['--f=c:\\\\Users\\\\eddie\\\\AppData\\\\Roaming\\\\jupyter\\\\runtime\\\\kernel-v2-10920VYc0EvnYd5ks.json']\n",
      "ARGS teest\n",
      "notebook\n",
      "fulldire C:\\Users\\eddie\\OneDrive\\Documents\\GitHub\\NeuroPattern\\other-archs\\model-size-scaling-logs\\2021\n",
      "no lightning logs found. Training from scratch.\n",
      "num_parameters :  3434755\n"
     ]
    },
    {
     "name": "stderr",
     "output_type": "stream",
     "text": [
      "GPU available: True (cuda), used: True\n",
      "TPU available: False, using: 0 TPU cores\n",
      "IPU available: False, using: 0 IPUs\n",
      "HPU available: False, using: 0 HPUs\n",
      "You are using a CUDA device ('NVIDIA GeForce RTX 3090') that has Tensor Cores. To properly utilize them, you should set `torch.set_float32_matmul_precision('medium' | 'high')` which will trade-off precision for performance. For more details, read https://pytorch.org/docs/stable/generated/torch.set_float32_matmul_precision.html#torch.set_float32_matmul_precision\n",
      "Missing logger folder: C:\\Users\\eddie\\OneDrive\\Documents\\GitHub\\NeuroPattern\\other-archs\\model-size-scaling-logs\\2021\\experiments\\lightning_logs\n",
      "LOCAL_RANK: 0 - CUDA_VISIBLE_DEVICES: [0]\n",
      "\n",
      "  | Name  | Type          | Params\n",
      "----------------------------------------\n",
      "0 | model | LagLlamaModel | 3.4 M \n",
      "----------------------------------------\n",
      "3.4 M     Trainable params\n",
      "0         Non-trainable params\n",
      "3.4 M     Total params\n",
      "13.739    Total estimated model params size (MB)\n"
     ]
    },
    {
     "data": {
      "application/vnd.jupyter.widget-view+json": {
       "model_id": "e71746cad048420cbcb3de03c1f29b63",
       "version_major": 2,
       "version_minor": 0
      },
      "text/plain": [
       "Sanity Checking: |          | 0/? [00:00<?, ?it/s]"
      ]
     },
     "metadata": {},
     "output_type": "display_data"
    },
    {
     "data": {
      "application/vnd.jupyter.widget-view+json": {
       "model_id": "4aa9ae8cb0e44b478801279454b2ce95",
       "version_major": 2,
       "version_minor": 0
      },
      "text/plain": [
       "Training: |          | 0/? [00:00<?, ?it/s]"
      ]
     },
     "metadata": {},
     "output_type": "display_data"
    },
    {
     "data": {
      "application/vnd.jupyter.widget-view+json": {
       "model_id": "e7d57ac8a95a4f47aadd962e2d834310",
       "version_major": 2,
       "version_minor": 0
      },
      "text/plain": [
       "Validation: |          | 0/? [00:00<?, ?it/s]"
      ]
     },
     "metadata": {},
     "output_type": "display_data"
    },
    {
     "name": "stderr",
     "output_type": "stream",
     "text": [
      "Metric val_loss improved. New best score: 0.599\n",
      "Epoch 0, global step 100: 'val_loss' reached 0.59944 (best 0.59944), saving model to 'C:\\\\Users\\\\eddie\\\\OneDrive\\\\Documents\\\\GitHub\\\\NeuroPattern\\\\other-archs\\\\model-size-scaling-logs\\\\2021\\\\experiments\\\\lightning_logs\\\\version_0\\\\checkpoints\\\\epoch=0-step=100.ckpt' as top 1\n"
     ]
    },
    {
     "data": {
      "application/vnd.jupyter.widget-view+json": {
       "model_id": "723f03212167454f95f8967443ad5ba1",
       "version_major": 2,
       "version_minor": 0
      },
      "text/plain": [
       "Validation: |          | 0/? [00:00<?, ?it/s]"
      ]
     },
     "metadata": {},
     "output_type": "display_data"
    },
    {
     "name": "stderr",
     "output_type": "stream",
     "text": [
      "Epoch 1, global step 200: 'val_loss' was not in top 1\n"
     ]
    },
    {
     "data": {
      "application/vnd.jupyter.widget-view+json": {
       "model_id": "d9eb5b4cf36d49f5b91f0107bcd7dbc1",
       "version_major": 2,
       "version_minor": 0
      },
      "text/plain": [
       "Validation: |          | 0/? [00:00<?, ?it/s]"
      ]
     },
     "metadata": {},
     "output_type": "display_data"
    },
    {
     "name": "stderr",
     "output_type": "stream",
     "text": [
      "Metric val_loss improved by 0.333 >= min_delta = 0.0. New best score: 0.267\n",
      "Epoch 2, global step 300: 'val_loss' reached 0.26689 (best 0.26689), saving model to 'C:\\\\Users\\\\eddie\\\\OneDrive\\\\Documents\\\\GitHub\\\\NeuroPattern\\\\other-archs\\\\model-size-scaling-logs\\\\2021\\\\experiments\\\\lightning_logs\\\\version_0\\\\checkpoints\\\\epoch=2-step=300.ckpt' as top 1\n"
     ]
    },
    {
     "data": {
      "application/vnd.jupyter.widget-view+json": {
       "model_id": "a437e7204c00440e993e11d56b41200b",
       "version_major": 2,
       "version_minor": 0
      },
      "text/plain": [
       "Validation: |          | 0/? [00:00<?, ?it/s]"
      ]
     },
     "metadata": {},
     "output_type": "display_data"
    },
    {
     "name": "stderr",
     "output_type": "stream",
     "text": [
      "Metric val_loss improved by 0.048 >= min_delta = 0.0. New best score: 0.219\n",
      "Epoch 3, global step 400: 'val_loss' reached 0.21854 (best 0.21854), saving model to 'C:\\\\Users\\\\eddie\\\\OneDrive\\\\Documents\\\\GitHub\\\\NeuroPattern\\\\other-archs\\\\model-size-scaling-logs\\\\2021\\\\experiments\\\\lightning_logs\\\\version_0\\\\checkpoints\\\\epoch=3-step=400.ckpt' as top 1\n"
     ]
    },
    {
     "data": {
      "application/vnd.jupyter.widget-view+json": {
       "model_id": "a0603cd57db74897ba9936288f9301f9",
       "version_major": 2,
       "version_minor": 0
      },
      "text/plain": [
       "Validation: |          | 0/? [00:00<?, ?it/s]"
      ]
     },
     "metadata": {},
     "output_type": "display_data"
    },
    {
     "name": "stderr",
     "output_type": "stream",
     "text": [
      "Metric val_loss improved by 0.110 >= min_delta = 0.0. New best score: 0.109\n",
      "Epoch 4, global step 500: 'val_loss' reached 0.10879 (best 0.10879), saving model to 'C:\\\\Users\\\\eddie\\\\OneDrive\\\\Documents\\\\GitHub\\\\NeuroPattern\\\\other-archs\\\\model-size-scaling-logs\\\\2021\\\\experiments\\\\lightning_logs\\\\version_0\\\\checkpoints\\\\epoch=4-step=500.ckpt' as top 1\n"
     ]
    },
    {
     "data": {
      "application/vnd.jupyter.widget-view+json": {
       "model_id": "02ace7b9970241a5b4e0180b41c1602e",
       "version_major": 2,
       "version_minor": 0
      },
      "text/plain": [
       "Validation: |          | 0/? [00:00<?, ?it/s]"
      ]
     },
     "metadata": {},
     "output_type": "display_data"
    },
    {
     "name": "stderr",
     "output_type": "stream",
     "text": [
      "Metric val_loss improved by 0.115 >= min_delta = 0.0. New best score: -0.006\n",
      "Epoch 5, global step 600: 'val_loss' reached -0.00598 (best -0.00598), saving model to 'C:\\\\Users\\\\eddie\\\\OneDrive\\\\Documents\\\\GitHub\\\\NeuroPattern\\\\other-archs\\\\model-size-scaling-logs\\\\2021\\\\experiments\\\\lightning_logs\\\\version_0\\\\checkpoints\\\\epoch=5-step=600.ckpt' as top 1\n"
     ]
    },
    {
     "data": {
      "application/vnd.jupyter.widget-view+json": {
       "model_id": "b0597272b33f4e52a7c058cf099e8b56",
       "version_major": 2,
       "version_minor": 0
      },
      "text/plain": [
       "Validation: |          | 0/? [00:00<?, ?it/s]"
      ]
     },
     "metadata": {},
     "output_type": "display_data"
    },
    {
     "name": "stderr",
     "output_type": "stream",
     "text": [
      "Epoch 6, global step 700: 'val_loss' was not in top 1\n"
     ]
    },
    {
     "data": {
      "application/vnd.jupyter.widget-view+json": {
       "model_id": "3123a1cce0634dbfa9cde7eb69bbff42",
       "version_major": 2,
       "version_minor": 0
      },
      "text/plain": [
       "Validation: |          | 0/? [00:00<?, ?it/s]"
      ]
     },
     "metadata": {},
     "output_type": "display_data"
    },
    {
     "name": "stderr",
     "output_type": "stream",
     "text": [
      "Epoch 7, global step 800: 'val_loss' was not in top 1\n"
     ]
    },
    {
     "data": {
      "application/vnd.jupyter.widget-view+json": {
       "model_id": "d1d2e8bdca5c416d964bae0f32c3e5ec",
       "version_major": 2,
       "version_minor": 0
      },
      "text/plain": [
       "Validation: |          | 0/? [00:00<?, ?it/s]"
      ]
     },
     "metadata": {},
     "output_type": "display_data"
    },
    {
     "name": "stderr",
     "output_type": "stream",
     "text": [
      "Epoch 8, global step 900: 'val_loss' was not in top 1\n"
     ]
    },
    {
     "data": {
      "application/vnd.jupyter.widget-view+json": {
       "model_id": "32516b8aeb174a11997dfe4be3a3c154",
       "version_major": 2,
       "version_minor": 0
      },
      "text/plain": [
       "Validation: |          | 0/? [00:00<?, ?it/s]"
      ]
     },
     "metadata": {},
     "output_type": "display_data"
    },
    {
     "name": "stderr",
     "output_type": "stream",
     "text": [
      "Epoch 9, global step 1000: 'val_loss' was not in top 1\n"
     ]
    },
    {
     "data": {
      "application/vnd.jupyter.widget-view+json": {
       "model_id": "52cf1eb5ed764ae485f60dd1296cc8e6",
       "version_major": 2,
       "version_minor": 0
      },
      "text/plain": [
       "Validation: |          | 0/? [00:00<?, ?it/s]"
      ]
     },
     "metadata": {},
     "output_type": "display_data"
    },
    {
     "name": "stderr",
     "output_type": "stream",
     "text": [
      "Epoch 10, global step 1100: 'val_loss' was not in top 1\n"
     ]
    },
    {
     "data": {
      "application/vnd.jupyter.widget-view+json": {
       "model_id": "c4c0c64e1ed64c53bc80987b775e088f",
       "version_major": 2,
       "version_minor": 0
      },
      "text/plain": [
       "Validation: |          | 0/? [00:00<?, ?it/s]"
      ]
     },
     "metadata": {},
     "output_type": "display_data"
    },
    {
     "name": "stderr",
     "output_type": "stream",
     "text": [
      "Epoch 11, global step 1200: 'val_loss' was not in top 1\n"
     ]
    },
    {
     "data": {
      "application/vnd.jupyter.widget-view+json": {
       "model_id": "2ccbd7a78aea44bbac95eb110aa7c529",
       "version_major": 2,
       "version_minor": 0
      },
      "text/plain": [
       "Validation: |          | 0/? [00:00<?, ?it/s]"
      ]
     },
     "metadata": {},
     "output_type": "display_data"
    },
    {
     "name": "stderr",
     "output_type": "stream",
     "text": [
      "Metric val_loss improved by 0.067 >= min_delta = 0.0. New best score: -0.073\n",
      "Epoch 12, global step 1300: 'val_loss' reached -0.07304 (best -0.07304), saving model to 'C:\\\\Users\\\\eddie\\\\OneDrive\\\\Documents\\\\GitHub\\\\NeuroPattern\\\\other-archs\\\\model-size-scaling-logs\\\\2021\\\\experiments\\\\lightning_logs\\\\version_0\\\\checkpoints\\\\epoch=12-step=1300.ckpt' as top 1\n"
     ]
    },
    {
     "data": {
      "application/vnd.jupyter.widget-view+json": {
       "model_id": "ceb298011bff43efb186ec542c37bdd8",
       "version_major": 2,
       "version_minor": 0
      },
      "text/plain": [
       "Validation: |          | 0/? [00:00<?, ?it/s]"
      ]
     },
     "metadata": {},
     "output_type": "display_data"
    },
    {
     "name": "stderr",
     "output_type": "stream",
     "text": [
      "Epoch 13, global step 1400: 'val_loss' was not in top 1\n"
     ]
    },
    {
     "data": {
      "application/vnd.jupyter.widget-view+json": {
       "model_id": "36f41191aed94ccbb157ab0b346954f2",
       "version_major": 2,
       "version_minor": 0
      },
      "text/plain": [
       "Validation: |          | 0/? [00:00<?, ?it/s]"
      ]
     },
     "metadata": {},
     "output_type": "display_data"
    },
    {
     "name": "stderr",
     "output_type": "stream",
     "text": [
      "Epoch 14, global step 1500: 'val_loss' was not in top 1\n"
     ]
    },
    {
     "data": {
      "application/vnd.jupyter.widget-view+json": {
       "model_id": "cabf64ea1f7e4349a171f532e51a8ca9",
       "version_major": 2,
       "version_minor": 0
      },
      "text/plain": [
       "Validation: |          | 0/? [00:00<?, ?it/s]"
      ]
     },
     "metadata": {},
     "output_type": "display_data"
    },
    {
     "name": "stderr",
     "output_type": "stream",
     "text": [
      "Epoch 15, global step 1600: 'val_loss' was not in top 1\n"
     ]
    },
    {
     "data": {
      "application/vnd.jupyter.widget-view+json": {
       "model_id": "750ec0d6a5ba4d9d85f1683d57b22a2e",
       "version_major": 2,
       "version_minor": 0
      },
      "text/plain": [
       "Validation: |          | 0/? [00:00<?, ?it/s]"
      ]
     },
     "metadata": {},
     "output_type": "display_data"
    },
    {
     "name": "stderr",
     "output_type": "stream",
     "text": [
      "Metric val_loss improved by 0.025 >= min_delta = 0.0. New best score: -0.098\n",
      "Epoch 16, global step 1700: 'val_loss' reached -0.09841 (best -0.09841), saving model to 'C:\\\\Users\\\\eddie\\\\OneDrive\\\\Documents\\\\GitHub\\\\NeuroPattern\\\\other-archs\\\\model-size-scaling-logs\\\\2021\\\\experiments\\\\lightning_logs\\\\version_0\\\\checkpoints\\\\epoch=16-step=1700.ckpt' as top 1\n"
     ]
    },
    {
     "data": {
      "application/vnd.jupyter.widget-view+json": {
       "model_id": "e4cdd92441314f36b225b35f9f0fae30",
       "version_major": 2,
       "version_minor": 0
      },
      "text/plain": [
       "Validation: |          | 0/? [00:00<?, ?it/s]"
      ]
     },
     "metadata": {},
     "output_type": "display_data"
    },
    {
     "name": "stderr",
     "output_type": "stream",
     "text": [
      "Metric val_loss improved by 0.088 >= min_delta = 0.0. New best score: -0.187\n",
      "Epoch 17, global step 1800: 'val_loss' reached -0.18667 (best -0.18667), saving model to 'C:\\\\Users\\\\eddie\\\\OneDrive\\\\Documents\\\\GitHub\\\\NeuroPattern\\\\other-archs\\\\model-size-scaling-logs\\\\2021\\\\experiments\\\\lightning_logs\\\\version_0\\\\checkpoints\\\\epoch=17-step=1800.ckpt' as top 1\n"
     ]
    },
    {
     "data": {
      "application/vnd.jupyter.widget-view+json": {
       "model_id": "3dbf9a00adea49a7992ca4db2292a37f",
       "version_major": 2,
       "version_minor": 0
      },
      "text/plain": [
       "Validation: |          | 0/? [00:00<?, ?it/s]"
      ]
     },
     "metadata": {},
     "output_type": "display_data"
    },
    {
     "name": "stderr",
     "output_type": "stream",
     "text": [
      "Epoch 18, global step 1900: 'val_loss' was not in top 1\n"
     ]
    },
    {
     "data": {
      "application/vnd.jupyter.widget-view+json": {
       "model_id": "2a7f9c64efbf4cc7b73ea78ffafdf2d5",
       "version_major": 2,
       "version_minor": 0
      },
      "text/plain": [
       "Validation: |          | 0/? [00:00<?, ?it/s]"
      ]
     },
     "metadata": {},
     "output_type": "display_data"
    },
    {
     "name": "stderr",
     "output_type": "stream",
     "text": [
      "Epoch 19, global step 2000: 'val_loss' was not in top 1\n"
     ]
    },
    {
     "data": {
      "application/vnd.jupyter.widget-view+json": {
       "model_id": "ef667504b0854646a8d566973c16a7cf",
       "version_major": 2,
       "version_minor": 0
      },
      "text/plain": [
       "Validation: |          | 0/? [00:00<?, ?it/s]"
      ]
     },
     "metadata": {},
     "output_type": "display_data"
    },
    {
     "name": "stderr",
     "output_type": "stream",
     "text": [
      "Epoch 20, global step 2100: 'val_loss' was not in top 1\n"
     ]
    },
    {
     "data": {
      "application/vnd.jupyter.widget-view+json": {
       "model_id": "f50a7c89f46449b59b5ae32f89937515",
       "version_major": 2,
       "version_minor": 0
      },
      "text/plain": [
       "Validation: |          | 0/? [00:00<?, ?it/s]"
      ]
     },
     "metadata": {},
     "output_type": "display_data"
    },
    {
     "name": "stderr",
     "output_type": "stream",
     "text": [
      "Epoch 21, global step 2200: 'val_loss' was not in top 1\n"
     ]
    },
    {
     "data": {
      "application/vnd.jupyter.widget-view+json": {
       "model_id": "4081a6cc2f8b4005a5e9f3e1ce777078",
       "version_major": 2,
       "version_minor": 0
      },
      "text/plain": [
       "Validation: |          | 0/? [00:00<?, ?it/s]"
      ]
     },
     "metadata": {},
     "output_type": "display_data"
    },
    {
     "name": "stderr",
     "output_type": "stream",
     "text": [
      "Epoch 22, global step 2300: 'val_loss' was not in top 1\n"
     ]
    },
    {
     "data": {
      "application/vnd.jupyter.widget-view+json": {
       "model_id": "4464aeb6934f40a0a1cce5c1024e9b18",
       "version_major": 2,
       "version_minor": 0
      },
      "text/plain": [
       "Validation: |          | 0/? [00:00<?, ?it/s]"
      ]
     },
     "metadata": {},
     "output_type": "display_data"
    },
    {
     "name": "stderr",
     "output_type": "stream",
     "text": [
      "Epoch 23, global step 2400: 'val_loss' was not in top 1\n"
     ]
    },
    {
     "data": {
      "application/vnd.jupyter.widget-view+json": {
       "model_id": "ed97365bf18f47df996e5c11ffbf232f",
       "version_major": 2,
       "version_minor": 0
      },
      "text/plain": [
       "Validation: |          | 0/? [00:00<?, ?it/s]"
      ]
     },
     "metadata": {},
     "output_type": "display_data"
    },
    {
     "name": "stderr",
     "output_type": "stream",
     "text": [
      "Epoch 24, global step 2500: 'val_loss' was not in top 1\n"
     ]
    },
    {
     "data": {
      "application/vnd.jupyter.widget-view+json": {
       "model_id": "d8e208dc95f847bcbd3071947af12c1d",
       "version_major": 2,
       "version_minor": 0
      },
      "text/plain": [
       "Validation: |          | 0/? [00:00<?, ?it/s]"
      ]
     },
     "metadata": {},
     "output_type": "display_data"
    },
    {
     "name": "stderr",
     "output_type": "stream",
     "text": [
      "Epoch 25, global step 2600: 'val_loss' was not in top 1\n"
     ]
    },
    {
     "data": {
      "application/vnd.jupyter.widget-view+json": {
       "model_id": "f18f7477d0904bbf9cb75a9941bb854a",
       "version_major": 2,
       "version_minor": 0
      },
      "text/plain": [
       "Validation: |          | 0/? [00:00<?, ?it/s]"
      ]
     },
     "metadata": {},
     "output_type": "display_data"
    },
    {
     "name": "stderr",
     "output_type": "stream",
     "text": [
      "Epoch 26, global step 2700: 'val_loss' was not in top 1\n"
     ]
    },
    {
     "data": {
      "application/vnd.jupyter.widget-view+json": {
       "model_id": "7d904a78e7bf4e30b17e0b168fdd6d96",
       "version_major": 2,
       "version_minor": 0
      },
      "text/plain": [
       "Validation: |          | 0/? [00:00<?, ?it/s]"
      ]
     },
     "metadata": {},
     "output_type": "display_data"
    },
    {
     "name": "stderr",
     "output_type": "stream",
     "text": [
      "Epoch 27, global step 2800: 'val_loss' was not in top 1\n"
     ]
    },
    {
     "data": {
      "application/vnd.jupyter.widget-view+json": {
       "model_id": "1d9c49747bc044aa88c444812b315dbb",
       "version_major": 2,
       "version_minor": 0
      },
      "text/plain": [
       "Validation: |          | 0/? [00:00<?, ?it/s]"
      ]
     },
     "metadata": {},
     "output_type": "display_data"
    },
    {
     "name": "stderr",
     "output_type": "stream",
     "text": [
      "Epoch 28, global step 2900: 'val_loss' was not in top 1\n"
     ]
    },
    {
     "data": {
      "application/vnd.jupyter.widget-view+json": {
       "model_id": "f18c75afa909433e8b35fe169e885dfe",
       "version_major": 2,
       "version_minor": 0
      },
      "text/plain": [
       "Validation: |          | 0/? [00:00<?, ?it/s]"
      ]
     },
     "metadata": {},
     "output_type": "display_data"
    },
    {
     "name": "stderr",
     "output_type": "stream",
     "text": [
      "Epoch 29, global step 3000: 'val_loss' was not in top 1\n"
     ]
    },
    {
     "data": {
      "application/vnd.jupyter.widget-view+json": {
       "model_id": "1e26821e8ee64303ba944c7856aa18c9",
       "version_major": 2,
       "version_minor": 0
      },
      "text/plain": [
       "Validation: |          | 0/? [00:00<?, ?it/s]"
      ]
     },
     "metadata": {},
     "output_type": "display_data"
    },
    {
     "name": "stderr",
     "output_type": "stream",
     "text": [
      "Epoch 30, global step 3100: 'val_loss' was not in top 1\n"
     ]
    },
    {
     "data": {
      "application/vnd.jupyter.widget-view+json": {
       "model_id": "6b1873af473b4f48861b96bfc6512a66",
       "version_major": 2,
       "version_minor": 0
      },
      "text/plain": [
       "Validation: |          | 0/? [00:00<?, ?it/s]"
      ]
     },
     "metadata": {},
     "output_type": "display_data"
    },
    {
     "name": "stderr",
     "output_type": "stream",
     "text": [
      "Epoch 31, global step 3200: 'val_loss' was not in top 1\n"
     ]
    },
    {
     "data": {
      "application/vnd.jupyter.widget-view+json": {
       "model_id": "c4a853afd2064d9195bbac633dc975cc",
       "version_major": 2,
       "version_minor": 0
      },
      "text/plain": [
       "Validation: |          | 0/? [00:00<?, ?it/s]"
      ]
     },
     "metadata": {},
     "output_type": "display_data"
    },
    {
     "name": "stderr",
     "output_type": "stream",
     "text": [
      "Epoch 32, global step 3300: 'val_loss' was not in top 1\n"
     ]
    },
    {
     "data": {
      "application/vnd.jupyter.widget-view+json": {
       "model_id": "c4c925802d3a48b3bc0dc2ee364c7f97",
       "version_major": 2,
       "version_minor": 0
      },
      "text/plain": [
       "Validation: |          | 0/? [00:00<?, ?it/s]"
      ]
     },
     "metadata": {},
     "output_type": "display_data"
    },
    {
     "name": "stderr",
     "output_type": "stream",
     "text": [
      "Epoch 33, global step 3400: 'val_loss' was not in top 1\n"
     ]
    },
    {
     "data": {
      "application/vnd.jupyter.widget-view+json": {
       "model_id": "089d1a8205ee4bf9a4571f42dceefeea",
       "version_major": 2,
       "version_minor": 0
      },
      "text/plain": [
       "Validation: |          | 0/? [00:00<?, ?it/s]"
      ]
     },
     "metadata": {},
     "output_type": "display_data"
    },
    {
     "name": "stderr",
     "output_type": "stream",
     "text": [
      "Epoch 34, global step 3500: 'val_loss' was not in top 1\n"
     ]
    },
    {
     "data": {
      "application/vnd.jupyter.widget-view+json": {
       "model_id": "229decc944354a619e67ac69730670e8",
       "version_major": 2,
       "version_minor": 0
      },
      "text/plain": [
       "Validation: |          | 0/? [00:00<?, ?it/s]"
      ]
     },
     "metadata": {},
     "output_type": "display_data"
    },
    {
     "name": "stderr",
     "output_type": "stream",
     "text": [
      "Epoch 35, global step 3600: 'val_loss' was not in top 1\n"
     ]
    },
    {
     "data": {
      "application/vnd.jupyter.widget-view+json": {
       "model_id": "3f2af141c2cc42a786b8401b04b8ea5f",
       "version_major": 2,
       "version_minor": 0
      },
      "text/plain": [
       "Validation: |          | 0/? [00:00<?, ?it/s]"
      ]
     },
     "metadata": {},
     "output_type": "display_data"
    },
    {
     "name": "stderr",
     "output_type": "stream",
     "text": [
      "Epoch 36, global step 3700: 'val_loss' was not in top 1\n"
     ]
    },
    {
     "data": {
      "application/vnd.jupyter.widget-view+json": {
       "model_id": "d524cd1fb94f48c0ac0a26fafaf4a11f",
       "version_major": 2,
       "version_minor": 0
      },
      "text/plain": [
       "Validation: |          | 0/? [00:00<?, ?it/s]"
      ]
     },
     "metadata": {},
     "output_type": "display_data"
    },
    {
     "name": "stderr",
     "output_type": "stream",
     "text": [
      "Epoch 37, global step 3800: 'val_loss' was not in top 1\n"
     ]
    },
    {
     "data": {
      "application/vnd.jupyter.widget-view+json": {
       "model_id": "9c516e0318d248ccba115ee88f1a8918",
       "version_major": 2,
       "version_minor": 0
      },
      "text/plain": [
       "Validation: |          | 0/? [00:00<?, ?it/s]"
      ]
     },
     "metadata": {},
     "output_type": "display_data"
    },
    {
     "name": "stderr",
     "output_type": "stream",
     "text": [
      "Epoch 38, global step 3900: 'val_loss' was not in top 1\n"
     ]
    },
    {
     "data": {
      "application/vnd.jupyter.widget-view+json": {
       "model_id": "7dbe2cb5b7954698becdb738c6dd9178",
       "version_major": 2,
       "version_minor": 0
      },
      "text/plain": [
       "Validation: |          | 0/? [00:00<?, ?it/s]"
      ]
     },
     "metadata": {},
     "output_type": "display_data"
    },
    {
     "name": "stderr",
     "output_type": "stream",
     "text": [
      "Epoch 39, global step 4000: 'val_loss' was not in top 1\n"
     ]
    },
    {
     "data": {
      "application/vnd.jupyter.widget-view+json": {
       "model_id": "f0867551367a4bd197fff7d301327b3b",
       "version_major": 2,
       "version_minor": 0
      },
      "text/plain": [
       "Validation: |          | 0/? [00:00<?, ?it/s]"
      ]
     },
     "metadata": {},
     "output_type": "display_data"
    },
    {
     "name": "stderr",
     "output_type": "stream",
     "text": [
      "Epoch 40, global step 4100: 'val_loss' was not in top 1\n"
     ]
    },
    {
     "data": {
      "application/vnd.jupyter.widget-view+json": {
       "model_id": "9fc9a32c16024decab384bbac79cbd36",
       "version_major": 2,
       "version_minor": 0
      },
      "text/plain": [
       "Validation: |          | 0/? [00:00<?, ?it/s]"
      ]
     },
     "metadata": {},
     "output_type": "display_data"
    },
    {
     "name": "stderr",
     "output_type": "stream",
     "text": [
      "Epoch 41, global step 4200: 'val_loss' was not in top 1\n"
     ]
    },
    {
     "data": {
      "application/vnd.jupyter.widget-view+json": {
       "model_id": "578344a1e64d4f1a835b06b382741605",
       "version_major": 2,
       "version_minor": 0
      },
      "text/plain": [
       "Validation: |          | 0/? [00:00<?, ?it/s]"
      ]
     },
     "metadata": {},
     "output_type": "display_data"
    },
    {
     "name": "stderr",
     "output_type": "stream",
     "text": [
      "Epoch 42, global step 4300: 'val_loss' was not in top 1\n"
     ]
    },
    {
     "data": {
      "application/vnd.jupyter.widget-view+json": {
       "model_id": "395a6fafedf94ecaa80ad10f084048ee",
       "version_major": 2,
       "version_minor": 0
      },
      "text/plain": [
       "Validation: |          | 0/? [00:00<?, ?it/s]"
      ]
     },
     "metadata": {},
     "output_type": "display_data"
    },
    {
     "name": "stderr",
     "output_type": "stream",
     "text": [
      "Metric val_loss improved by 0.086 >= min_delta = 0.0. New best score: -0.273\n",
      "Epoch 43, global step 4400: 'val_loss' reached -0.27251 (best -0.27251), saving model to 'C:\\\\Users\\\\eddie\\\\OneDrive\\\\Documents\\\\GitHub\\\\NeuroPattern\\\\other-archs\\\\model-size-scaling-logs\\\\2021\\\\experiments\\\\lightning_logs\\\\version_0\\\\checkpoints\\\\epoch=43-step=4400.ckpt' as top 1\n"
     ]
    },
    {
     "data": {
      "application/vnd.jupyter.widget-view+json": {
       "model_id": "5681ae132c864e3eb61bbd94048289d8",
       "version_major": 2,
       "version_minor": 0
      },
      "text/plain": [
       "Validation: |          | 0/? [00:00<?, ?it/s]"
      ]
     },
     "metadata": {},
     "output_type": "display_data"
    },
    {
     "name": "stderr",
     "output_type": "stream",
     "text": [
      "Epoch 44, global step 4500: 'val_loss' was not in top 1\n"
     ]
    },
    {
     "data": {
      "application/vnd.jupyter.widget-view+json": {
       "model_id": "99c176e991554e3da900c4be2b0c586b",
       "version_major": 2,
       "version_minor": 0
      },
      "text/plain": [
       "Validation: |          | 0/? [00:00<?, ?it/s]"
      ]
     },
     "metadata": {},
     "output_type": "display_data"
    },
    {
     "name": "stderr",
     "output_type": "stream",
     "text": [
      "Epoch 45, global step 4600: 'val_loss' was not in top 1\n"
     ]
    },
    {
     "data": {
      "application/vnd.jupyter.widget-view+json": {
       "model_id": "5bbd976f162748d3bc04a3bb17fb3a44",
       "version_major": 2,
       "version_minor": 0
      },
      "text/plain": [
       "Validation: |          | 0/? [00:00<?, ?it/s]"
      ]
     },
     "metadata": {},
     "output_type": "display_data"
    },
    {
     "name": "stderr",
     "output_type": "stream",
     "text": [
      "Epoch 46, global step 4700: 'val_loss' was not in top 1\n"
     ]
    },
    {
     "data": {
      "application/vnd.jupyter.widget-view+json": {
       "model_id": "b68c9232941b46ae96f6d49abb3ebc3b",
       "version_major": 2,
       "version_minor": 0
      },
      "text/plain": [
       "Validation: |          | 0/? [00:00<?, ?it/s]"
      ]
     },
     "metadata": {},
     "output_type": "display_data"
    },
    {
     "name": "stderr",
     "output_type": "stream",
     "text": [
      "Epoch 47, global step 4800: 'val_loss' was not in top 1\n"
     ]
    },
    {
     "data": {
      "application/vnd.jupyter.widget-view+json": {
       "model_id": "5c231e3007f34b4b981db1b042f9f32e",
       "version_major": 2,
       "version_minor": 0
      },
      "text/plain": [
       "Validation: |          | 0/? [00:00<?, ?it/s]"
      ]
     },
     "metadata": {},
     "output_type": "display_data"
    },
    {
     "name": "stderr",
     "output_type": "stream",
     "text": [
      "Epoch 48, global step 4900: 'val_loss' was not in top 1\n"
     ]
    },
    {
     "data": {
      "application/vnd.jupyter.widget-view+json": {
       "model_id": "3148ec1eea04487bb0ceb1c97a21e394",
       "version_major": 2,
       "version_minor": 0
      },
      "text/plain": [
       "Validation: |          | 0/? [00:00<?, ?it/s]"
      ]
     },
     "metadata": {},
     "output_type": "display_data"
    },
    {
     "name": "stderr",
     "output_type": "stream",
     "text": [
      "Epoch 49, global step 5000: 'val_loss' was not in top 1\n"
     ]
    },
    {
     "data": {
      "application/vnd.jupyter.widget-view+json": {
       "model_id": "7dfd5ca7ec8245d797b45f298967c5c4",
       "version_major": 2,
       "version_minor": 0
      },
      "text/plain": [
       "Validation: |          | 0/? [00:00<?, ?it/s]"
      ]
     },
     "metadata": {},
     "output_type": "display_data"
    },
    {
     "name": "stderr",
     "output_type": "stream",
     "text": [
      "Epoch 50, global step 5100: 'val_loss' was not in top 1\n"
     ]
    },
    {
     "data": {
      "application/vnd.jupyter.widget-view+json": {
       "model_id": "e3431d3b3b584098a8d0f9bb01ed310a",
       "version_major": 2,
       "version_minor": 0
      },
      "text/plain": [
       "Validation: |          | 0/? [00:00<?, ?it/s]"
      ]
     },
     "metadata": {},
     "output_type": "display_data"
    },
    {
     "name": "stderr",
     "output_type": "stream",
     "text": [
      "Epoch 51, global step 5200: 'val_loss' was not in top 1\n"
     ]
    },
    {
     "data": {
      "application/vnd.jupyter.widget-view+json": {
       "model_id": "e92919f31bc34d3ebab961b6bf4d7d39",
       "version_major": 2,
       "version_minor": 0
      },
      "text/plain": [
       "Validation: |          | 0/? [00:00<?, ?it/s]"
      ]
     },
     "metadata": {},
     "output_type": "display_data"
    },
    {
     "name": "stderr",
     "output_type": "stream",
     "text": [
      "Epoch 52, global step 5300: 'val_loss' was not in top 1\n"
     ]
    },
    {
     "data": {
      "application/vnd.jupyter.widget-view+json": {
       "model_id": "ed01e24320624a8e9a6cd721e7b753b6",
       "version_major": 2,
       "version_minor": 0
      },
      "text/plain": [
       "Validation: |          | 0/? [00:00<?, ?it/s]"
      ]
     },
     "metadata": {},
     "output_type": "display_data"
    },
    {
     "name": "stderr",
     "output_type": "stream",
     "text": [
      "Epoch 53, global step 5400: 'val_loss' was not in top 1\n"
     ]
    },
    {
     "data": {
      "application/vnd.jupyter.widget-view+json": {
       "model_id": "275301ad90b141649eab0ade1fec6353",
       "version_major": 2,
       "version_minor": 0
      },
      "text/plain": [
       "Validation: |          | 0/? [00:00<?, ?it/s]"
      ]
     },
     "metadata": {},
     "output_type": "display_data"
    },
    {
     "name": "stderr",
     "output_type": "stream",
     "text": [
      "Epoch 54, global step 5500: 'val_loss' was not in top 1\n"
     ]
    },
    {
     "data": {
      "application/vnd.jupyter.widget-view+json": {
       "model_id": "4c529b5c82c047dfa61e7a91aed4d2a4",
       "version_major": 2,
       "version_minor": 0
      },
      "text/plain": [
       "Validation: |          | 0/? [00:00<?, ?it/s]"
      ]
     },
     "metadata": {},
     "output_type": "display_data"
    },
    {
     "name": "stderr",
     "output_type": "stream",
     "text": [
      "Epoch 55, global step 5600: 'val_loss' was not in top 1\n"
     ]
    },
    {
     "data": {
      "application/vnd.jupyter.widget-view+json": {
       "model_id": "6b97fbd051b2408098d9365b20414f0e",
       "version_major": 2,
       "version_minor": 0
      },
      "text/plain": [
       "Validation: |          | 0/? [00:00<?, ?it/s]"
      ]
     },
     "metadata": {},
     "output_type": "display_data"
    },
    {
     "name": "stderr",
     "output_type": "stream",
     "text": [
      "Epoch 56, global step 5700: 'val_loss' was not in top 1\n"
     ]
    },
    {
     "data": {
      "application/vnd.jupyter.widget-view+json": {
       "model_id": "8c8df768fc7548fb97a9a82b51b65851",
       "version_major": 2,
       "version_minor": 0
      },
      "text/plain": [
       "Validation: |          | 0/? [00:00<?, ?it/s]"
      ]
     },
     "metadata": {},
     "output_type": "display_data"
    },
    {
     "name": "stderr",
     "output_type": "stream",
     "text": [
      "Epoch 57, global step 5800: 'val_loss' was not in top 1\n"
     ]
    },
    {
     "data": {
      "application/vnd.jupyter.widget-view+json": {
       "model_id": "d7178b815892428f876c7b6dc2f07bb5",
       "version_major": 2,
       "version_minor": 0
      },
      "text/plain": [
       "Validation: |          | 0/? [00:00<?, ?it/s]"
      ]
     },
     "metadata": {},
     "output_type": "display_data"
    },
    {
     "name": "stderr",
     "output_type": "stream",
     "text": [
      "Epoch 58, global step 5900: 'val_loss' was not in top 1\n"
     ]
    },
    {
     "data": {
      "application/vnd.jupyter.widget-view+json": {
       "model_id": "835372af6f984274a8bb2102bc7bb3e6",
       "version_major": 2,
       "version_minor": 0
      },
      "text/plain": [
       "Validation: |          | 0/? [00:00<?, ?it/s]"
      ]
     },
     "metadata": {},
     "output_type": "display_data"
    },
    {
     "name": "stderr",
     "output_type": "stream",
     "text": [
      "Epoch 59, global step 6000: 'val_loss' was not in top 1\n"
     ]
    },
    {
     "data": {
      "application/vnd.jupyter.widget-view+json": {
       "model_id": "4017e9fde0d34d76ac118121232e915d",
       "version_major": 2,
       "version_minor": 0
      },
      "text/plain": [
       "Validation: |          | 0/? [00:00<?, ?it/s]"
      ]
     },
     "metadata": {},
     "output_type": "display_data"
    },
    {
     "name": "stderr",
     "output_type": "stream",
     "text": [
      "Metric val_loss improved by 0.083 >= min_delta = 0.0. New best score: -0.356\n",
      "Epoch 60, global step 6100: 'val_loss' reached -0.35590 (best -0.35590), saving model to 'C:\\\\Users\\\\eddie\\\\OneDrive\\\\Documents\\\\GitHub\\\\NeuroPattern\\\\other-archs\\\\model-size-scaling-logs\\\\2021\\\\experiments\\\\lightning_logs\\\\version_0\\\\checkpoints\\\\epoch=60-step=6100.ckpt' as top 1\n"
     ]
    },
    {
     "data": {
      "application/vnd.jupyter.widget-view+json": {
       "model_id": "0c6fea2469e2485984c35e11f35176ff",
       "version_major": 2,
       "version_minor": 0
      },
      "text/plain": [
       "Validation: |          | 0/? [00:00<?, ?it/s]"
      ]
     },
     "metadata": {},
     "output_type": "display_data"
    },
    {
     "name": "stderr",
     "output_type": "stream",
     "text": [
      "Epoch 61, global step 6200: 'val_loss' was not in top 1\n"
     ]
    },
    {
     "data": {
      "application/vnd.jupyter.widget-view+json": {
       "model_id": "4e33e774033340e9b1604e982169143e",
       "version_major": 2,
       "version_minor": 0
      },
      "text/plain": [
       "Validation: |          | 0/? [00:00<?, ?it/s]"
      ]
     },
     "metadata": {},
     "output_type": "display_data"
    },
    {
     "name": "stderr",
     "output_type": "stream",
     "text": [
      "Epoch 62, global step 6300: 'val_loss' was not in top 1\n"
     ]
    },
    {
     "data": {
      "application/vnd.jupyter.widget-view+json": {
       "model_id": "4094ea4bd3064df9974671260b7f7050",
       "version_major": 2,
       "version_minor": 0
      },
      "text/plain": [
       "Validation: |          | 0/? [00:00<?, ?it/s]"
      ]
     },
     "metadata": {},
     "output_type": "display_data"
    },
    {
     "name": "stderr",
     "output_type": "stream",
     "text": [
      "Epoch 63, global step 6400: 'val_loss' was not in top 1\n"
     ]
    },
    {
     "data": {
      "application/vnd.jupyter.widget-view+json": {
       "model_id": "22a844d742344d4abb21c09d824d4ff4",
       "version_major": 2,
       "version_minor": 0
      },
      "text/plain": [
       "Validation: |          | 0/? [00:00<?, ?it/s]"
      ]
     },
     "metadata": {},
     "output_type": "display_data"
    },
    {
     "name": "stderr",
     "output_type": "stream",
     "text": [
      "Epoch 64, global step 6500: 'val_loss' was not in top 1\n"
     ]
    },
    {
     "data": {
      "application/vnd.jupyter.widget-view+json": {
       "model_id": "438d1538fd5b451691c79602727c36b6",
       "version_major": 2,
       "version_minor": 0
      },
      "text/plain": [
       "Validation: |          | 0/? [00:00<?, ?it/s]"
      ]
     },
     "metadata": {},
     "output_type": "display_data"
    },
    {
     "name": "stderr",
     "output_type": "stream",
     "text": [
      "Epoch 65, global step 6600: 'val_loss' was not in top 1\n"
     ]
    },
    {
     "data": {
      "application/vnd.jupyter.widget-view+json": {
       "model_id": "d2e35403a4c04ae4a6711b95a7b025bd",
       "version_major": 2,
       "version_minor": 0
      },
      "text/plain": [
       "Validation: |          | 0/? [00:00<?, ?it/s]"
      ]
     },
     "metadata": {},
     "output_type": "display_data"
    },
    {
     "name": "stderr",
     "output_type": "stream",
     "text": [
      "Epoch 66, global step 6700: 'val_loss' was not in top 1\n"
     ]
    },
    {
     "data": {
      "application/vnd.jupyter.widget-view+json": {
       "model_id": "f4e693a785a742bf94f346f4ccf31079",
       "version_major": 2,
       "version_minor": 0
      },
      "text/plain": [
       "Validation: |          | 0/? [00:00<?, ?it/s]"
      ]
     },
     "metadata": {},
     "output_type": "display_data"
    },
    {
     "name": "stderr",
     "output_type": "stream",
     "text": [
      "Epoch 67, global step 6800: 'val_loss' was not in top 1\n"
     ]
    },
    {
     "data": {
      "application/vnd.jupyter.widget-view+json": {
       "model_id": "15574cb32c44462d8420ab6515b4d082",
       "version_major": 2,
       "version_minor": 0
      },
      "text/plain": [
       "Validation: |          | 0/? [00:00<?, ?it/s]"
      ]
     },
     "metadata": {},
     "output_type": "display_data"
    },
    {
     "name": "stderr",
     "output_type": "stream",
     "text": [
      "Epoch 68, global step 6900: 'val_loss' was not in top 1\n"
     ]
    },
    {
     "data": {
      "application/vnd.jupyter.widget-view+json": {
       "model_id": "d2dfb39b19244cffbd28b455a162a146",
       "version_major": 2,
       "version_minor": 0
      },
      "text/plain": [
       "Validation: |          | 0/? [00:00<?, ?it/s]"
      ]
     },
     "metadata": {},
     "output_type": "display_data"
    },
    {
     "name": "stderr",
     "output_type": "stream",
     "text": [
      "Epoch 69, global step 7000: 'val_loss' was not in top 1\n"
     ]
    },
    {
     "data": {
      "application/vnd.jupyter.widget-view+json": {
       "model_id": "54ab2b95909849ecb6a39c7d1cd80971",
       "version_major": 2,
       "version_minor": 0
      },
      "text/plain": [
       "Validation: |          | 0/? [00:00<?, ?it/s]"
      ]
     },
     "metadata": {},
     "output_type": "display_data"
    },
    {
     "name": "stderr",
     "output_type": "stream",
     "text": [
      "Epoch 70, global step 7100: 'val_loss' was not in top 1\n"
     ]
    },
    {
     "data": {
      "application/vnd.jupyter.widget-view+json": {
       "model_id": "5517730b6f554d47afcc26af64cf8c46",
       "version_major": 2,
       "version_minor": 0
      },
      "text/plain": [
       "Validation: |          | 0/? [00:00<?, ?it/s]"
      ]
     },
     "metadata": {},
     "output_type": "display_data"
    },
    {
     "name": "stderr",
     "output_type": "stream",
     "text": [
      "Metric val_loss improved by 0.113 >= min_delta = 0.0. New best score: -0.469\n",
      "Epoch 71, global step 7200: 'val_loss' reached -0.46872 (best -0.46872), saving model to 'C:\\\\Users\\\\eddie\\\\OneDrive\\\\Documents\\\\GitHub\\\\NeuroPattern\\\\other-archs\\\\model-size-scaling-logs\\\\2021\\\\experiments\\\\lightning_logs\\\\version_0\\\\checkpoints\\\\epoch=71-step=7200.ckpt' as top 1\n"
     ]
    },
    {
     "data": {
      "application/vnd.jupyter.widget-view+json": {
       "model_id": "ed369c59270f4d39b2137fdbf028b688",
       "version_major": 2,
       "version_minor": 0
      },
      "text/plain": [
       "Validation: |          | 0/? [00:00<?, ?it/s]"
      ]
     },
     "metadata": {},
     "output_type": "display_data"
    },
    {
     "name": "stderr",
     "output_type": "stream",
     "text": [
      "Epoch 72, global step 7300: 'val_loss' was not in top 1\n"
     ]
    },
    {
     "data": {
      "application/vnd.jupyter.widget-view+json": {
       "model_id": "9f3f0581c4c247f5bb749debc6290621",
       "version_major": 2,
       "version_minor": 0
      },
      "text/plain": [
       "Validation: |          | 0/? [00:00<?, ?it/s]"
      ]
     },
     "metadata": {},
     "output_type": "display_data"
    },
    {
     "name": "stderr",
     "output_type": "stream",
     "text": [
      "Epoch 73, global step 7400: 'val_loss' was not in top 1\n"
     ]
    },
    {
     "data": {
      "application/vnd.jupyter.widget-view+json": {
       "model_id": "42bb38be7664412bb1e1202ec28ac16b",
       "version_major": 2,
       "version_minor": 0
      },
      "text/plain": [
       "Validation: |          | 0/? [00:00<?, ?it/s]"
      ]
     },
     "metadata": {},
     "output_type": "display_data"
    },
    {
     "name": "stderr",
     "output_type": "stream",
     "text": [
      "Epoch 74, global step 7500: 'val_loss' was not in top 1\n"
     ]
    },
    {
     "data": {
      "application/vnd.jupyter.widget-view+json": {
       "model_id": "8703642aa2154349a1a5799bee17ffe4",
       "version_major": 2,
       "version_minor": 0
      },
      "text/plain": [
       "Validation: |          | 0/? [00:00<?, ?it/s]"
      ]
     },
     "metadata": {},
     "output_type": "display_data"
    },
    {
     "name": "stderr",
     "output_type": "stream",
     "text": [
      "Epoch 75, global step 7600: 'val_loss' was not in top 1\n"
     ]
    },
    {
     "data": {
      "application/vnd.jupyter.widget-view+json": {
       "model_id": "2a7103333a0f495fa4c2687fac341bb5",
       "version_major": 2,
       "version_minor": 0
      },
      "text/plain": [
       "Validation: |          | 0/? [00:00<?, ?it/s]"
      ]
     },
     "metadata": {},
     "output_type": "display_data"
    },
    {
     "name": "stderr",
     "output_type": "stream",
     "text": [
      "Epoch 76, global step 7700: 'val_loss' was not in top 1\n"
     ]
    },
    {
     "data": {
      "application/vnd.jupyter.widget-view+json": {
       "model_id": "e6fcf5e410db47d987dba6479f914360",
       "version_major": 2,
       "version_minor": 0
      },
      "text/plain": [
       "Validation: |          | 0/? [00:00<?, ?it/s]"
      ]
     },
     "metadata": {},
     "output_type": "display_data"
    },
    {
     "name": "stderr",
     "output_type": "stream",
     "text": [
      "Epoch 77, global step 7800: 'val_loss' was not in top 1\n"
     ]
    },
    {
     "data": {
      "application/vnd.jupyter.widget-view+json": {
       "model_id": "f1a27b65864f486eac88d6fdadfec8e6",
       "version_major": 2,
       "version_minor": 0
      },
      "text/plain": [
       "Validation: |          | 0/? [00:00<?, ?it/s]"
      ]
     },
     "metadata": {},
     "output_type": "display_data"
    },
    {
     "name": "stderr",
     "output_type": "stream",
     "text": [
      "Epoch 78, global step 7900: 'val_loss' was not in top 1\n"
     ]
    },
    {
     "data": {
      "application/vnd.jupyter.widget-view+json": {
       "model_id": "4297c5ff669d4db2bf6f48ac9f5ae662",
       "version_major": 2,
       "version_minor": 0
      },
      "text/plain": [
       "Validation: |          | 0/? [00:00<?, ?it/s]"
      ]
     },
     "metadata": {},
     "output_type": "display_data"
    },
    {
     "name": "stderr",
     "output_type": "stream",
     "text": [
      "Epoch 79, global step 8000: 'val_loss' was not in top 1\n"
     ]
    },
    {
     "data": {
      "application/vnd.jupyter.widget-view+json": {
       "model_id": "6cc3ab1a18fb4af4b04e020364bc43e0",
       "version_major": 2,
       "version_minor": 0
      },
      "text/plain": [
       "Validation: |          | 0/? [00:00<?, ?it/s]"
      ]
     },
     "metadata": {},
     "output_type": "display_data"
    },
    {
     "name": "stderr",
     "output_type": "stream",
     "text": [
      "Epoch 80, global step 8100: 'val_loss' was not in top 1\n"
     ]
    },
    {
     "data": {
      "application/vnd.jupyter.widget-view+json": {
       "model_id": "b795930f9f594bf999cfeb2a7c8a3263",
       "version_major": 2,
       "version_minor": 0
      },
      "text/plain": [
       "Validation: |          | 0/? [00:00<?, ?it/s]"
      ]
     },
     "metadata": {},
     "output_type": "display_data"
    },
    {
     "name": "stderr",
     "output_type": "stream",
     "text": [
      "Epoch 81, global step 8200: 'val_loss' was not in top 1\n"
     ]
    },
    {
     "data": {
      "application/vnd.jupyter.widget-view+json": {
       "model_id": "68bee169903541f499b53f3f880b2d16",
       "version_major": 2,
       "version_minor": 0
      },
      "text/plain": [
       "Validation: |          | 0/? [00:00<?, ?it/s]"
      ]
     },
     "metadata": {},
     "output_type": "display_data"
    },
    {
     "name": "stderr",
     "output_type": "stream",
     "text": [
      "Epoch 82, global step 8300: 'val_loss' was not in top 1\n"
     ]
    },
    {
     "data": {
      "application/vnd.jupyter.widget-view+json": {
       "model_id": "54e7387e1ddb4f6996619da94c5678db",
       "version_major": 2,
       "version_minor": 0
      },
      "text/plain": [
       "Validation: |          | 0/? [00:00<?, ?it/s]"
      ]
     },
     "metadata": {},
     "output_type": "display_data"
    },
    {
     "name": "stderr",
     "output_type": "stream",
     "text": [
      "Epoch 83, global step 8400: 'val_loss' was not in top 1\n"
     ]
    },
    {
     "data": {
      "application/vnd.jupyter.widget-view+json": {
       "model_id": "bd97a38914434bb393602157461d8235",
       "version_major": 2,
       "version_minor": 0
      },
      "text/plain": [
       "Validation: |          | 0/? [00:00<?, ?it/s]"
      ]
     },
     "metadata": {},
     "output_type": "display_data"
    },
    {
     "name": "stderr",
     "output_type": "stream",
     "text": [
      "Epoch 84, global step 8500: 'val_loss' was not in top 1\n"
     ]
    },
    {
     "data": {
      "application/vnd.jupyter.widget-view+json": {
       "model_id": "8037eb61952e4633a47a076b6a47186a",
       "version_major": 2,
       "version_minor": 0
      },
      "text/plain": [
       "Validation: |          | 0/? [00:00<?, ?it/s]"
      ]
     },
     "metadata": {},
     "output_type": "display_data"
    },
    {
     "name": "stderr",
     "output_type": "stream",
     "text": [
      "Epoch 85, global step 8600: 'val_loss' was not in top 1\n"
     ]
    },
    {
     "data": {
      "application/vnd.jupyter.widget-view+json": {
       "model_id": "abeabd1288e74f73ad24e6595e84e637",
       "version_major": 2,
       "version_minor": 0
      },
      "text/plain": [
       "Validation: |          | 0/? [00:00<?, ?it/s]"
      ]
     },
     "metadata": {},
     "output_type": "display_data"
    },
    {
     "name": "stderr",
     "output_type": "stream",
     "text": [
      "Epoch 86, global step 8700: 'val_loss' was not in top 1\n"
     ]
    },
    {
     "data": {
      "application/vnd.jupyter.widget-view+json": {
       "model_id": "23dea618a73c46579e037119db036c67",
       "version_major": 2,
       "version_minor": 0
      },
      "text/plain": [
       "Validation: |          | 0/? [00:00<?, ?it/s]"
      ]
     },
     "metadata": {},
     "output_type": "display_data"
    },
    {
     "name": "stderr",
     "output_type": "stream",
     "text": [
      "Epoch 87, global step 8800: 'val_loss' was not in top 1\n"
     ]
    },
    {
     "data": {
      "application/vnd.jupyter.widget-view+json": {
       "model_id": "9e7f7fdd5e4544c5887cfb844b8959d8",
       "version_major": 2,
       "version_minor": 0
      },
      "text/plain": [
       "Validation: |          | 0/? [00:00<?, ?it/s]"
      ]
     },
     "metadata": {},
     "output_type": "display_data"
    },
    {
     "name": "stderr",
     "output_type": "stream",
     "text": [
      "Epoch 88, global step 8900: 'val_loss' was not in top 1\n"
     ]
    },
    {
     "data": {
      "application/vnd.jupyter.widget-view+json": {
       "model_id": "fc21176df4c5414f923641fd8babbadf",
       "version_major": 2,
       "version_minor": 0
      },
      "text/plain": [
       "Validation: |          | 0/? [00:00<?, ?it/s]"
      ]
     },
     "metadata": {},
     "output_type": "display_data"
    },
    {
     "name": "stderr",
     "output_type": "stream",
     "text": [
      "Epoch 89, global step 9000: 'val_loss' was not in top 1\n"
     ]
    },
    {
     "data": {
      "application/vnd.jupyter.widget-view+json": {
       "model_id": "d12cda53c9684a478136facebb6ce5ab",
       "version_major": 2,
       "version_minor": 0
      },
      "text/plain": [
       "Validation: |          | 0/? [00:00<?, ?it/s]"
      ]
     },
     "metadata": {},
     "output_type": "display_data"
    },
    {
     "name": "stderr",
     "output_type": "stream",
     "text": [
      "Epoch 90, global step 9100: 'val_loss' was not in top 1\n"
     ]
    },
    {
     "data": {
      "application/vnd.jupyter.widget-view+json": {
       "model_id": "5df388f233354787b172f206472a8656",
       "version_major": 2,
       "version_minor": 0
      },
      "text/plain": [
       "Validation: |          | 0/? [00:00<?, ?it/s]"
      ]
     },
     "metadata": {},
     "output_type": "display_data"
    },
    {
     "name": "stderr",
     "output_type": "stream",
     "text": [
      "Epoch 91, global step 9200: 'val_loss' was not in top 1\n"
     ]
    },
    {
     "data": {
      "application/vnd.jupyter.widget-view+json": {
       "model_id": "4aa7b0a3cec24b419710bb9d0645908c",
       "version_major": 2,
       "version_minor": 0
      },
      "text/plain": [
       "Validation: |          | 0/? [00:00<?, ?it/s]"
      ]
     },
     "metadata": {},
     "output_type": "display_data"
    },
    {
     "name": "stderr",
     "output_type": "stream",
     "text": [
      "Epoch 92, global step 9300: 'val_loss' was not in top 1\n"
     ]
    },
    {
     "data": {
      "application/vnd.jupyter.widget-view+json": {
       "model_id": "fc51a54aa90945fcbc41bd19a06cbc5a",
       "version_major": 2,
       "version_minor": 0
      },
      "text/plain": [
       "Validation: |          | 0/? [00:00<?, ?it/s]"
      ]
     },
     "metadata": {},
     "output_type": "display_data"
    },
    {
     "name": "stderr",
     "output_type": "stream",
     "text": [
      "Epoch 93, global step 9400: 'val_loss' was not in top 1\n"
     ]
    },
    {
     "data": {
      "application/vnd.jupyter.widget-view+json": {
       "model_id": "f5f83b31d3e543de943320252611e50f",
       "version_major": 2,
       "version_minor": 0
      },
      "text/plain": [
       "Validation: |          | 0/? [00:00<?, ?it/s]"
      ]
     },
     "metadata": {},
     "output_type": "display_data"
    },
    {
     "name": "stderr",
     "output_type": "stream",
     "text": [
      "Epoch 94, global step 9500: 'val_loss' was not in top 1\n"
     ]
    },
    {
     "data": {
      "application/vnd.jupyter.widget-view+json": {
       "model_id": "cc6ac79efddd4b2f87a92874db215977",
       "version_major": 2,
       "version_minor": 0
      },
      "text/plain": [
       "Validation: |          | 0/? [00:00<?, ?it/s]"
      ]
     },
     "metadata": {},
     "output_type": "display_data"
    },
    {
     "name": "stderr",
     "output_type": "stream",
     "text": [
      "Epoch 95, global step 9600: 'val_loss' was not in top 1\n"
     ]
    },
    {
     "data": {
      "application/vnd.jupyter.widget-view+json": {
       "model_id": "8edc6ca59ba845139835c27195334c89",
       "version_major": 2,
       "version_minor": 0
      },
      "text/plain": [
       "Validation: |          | 0/? [00:00<?, ?it/s]"
      ]
     },
     "metadata": {},
     "output_type": "display_data"
    },
    {
     "name": "stderr",
     "output_type": "stream",
     "text": [
      "Epoch 96, global step 9700: 'val_loss' was not in top 1\n"
     ]
    },
    {
     "data": {
      "application/vnd.jupyter.widget-view+json": {
       "model_id": "f8404021d2564776a980dafae3368b45",
       "version_major": 2,
       "version_minor": 0
      },
      "text/plain": [
       "Validation: |          | 0/? [00:00<?, ?it/s]"
      ]
     },
     "metadata": {},
     "output_type": "display_data"
    },
    {
     "name": "stderr",
     "output_type": "stream",
     "text": [
      "Epoch 97, global step 9800: 'val_loss' was not in top 1\n"
     ]
    },
    {
     "data": {
      "application/vnd.jupyter.widget-view+json": {
       "model_id": "9a1fe71ab5a9470192311ffc805c1acc",
       "version_major": 2,
       "version_minor": 0
      },
      "text/plain": [
       "Validation: |          | 0/? [00:00<?, ?it/s]"
      ]
     },
     "metadata": {},
     "output_type": "display_data"
    },
    {
     "name": "stderr",
     "output_type": "stream",
     "text": [
      "Epoch 98, global step 9900: 'val_loss' was not in top 1\n"
     ]
    },
    {
     "data": {
      "application/vnd.jupyter.widget-view+json": {
       "model_id": "eeb2405fdf3e46a6a3d08e80d006e1b2",
       "version_major": 2,
       "version_minor": 0
      },
      "text/plain": [
       "Validation: |          | 0/? [00:00<?, ?it/s]"
      ]
     },
     "metadata": {},
     "output_type": "display_data"
    },
    {
     "name": "stderr",
     "output_type": "stream",
     "text": [
      "Epoch 99, global step 10000: 'val_loss' was not in top 1\n"
     ]
    },
    {
     "data": {
      "application/vnd.jupyter.widget-view+json": {
       "model_id": "6fbb3edab15e4e7896b557d99e8d14e4",
       "version_major": 2,
       "version_minor": 0
      },
      "text/plain": [
       "Validation: |          | 0/? [00:00<?, ?it/s]"
      ]
     },
     "metadata": {},
     "output_type": "display_data"
    },
    {
     "name": "stderr",
     "output_type": "stream",
     "text": [
      "Epoch 100, global step 10100: 'val_loss' was not in top 1\n"
     ]
    },
    {
     "data": {
      "application/vnd.jupyter.widget-view+json": {
       "model_id": "63ec9e8a2e7248388fe3f5610427da92",
       "version_major": 2,
       "version_minor": 0
      },
      "text/plain": [
       "Validation: |          | 0/? [00:00<?, ?it/s]"
      ]
     },
     "metadata": {},
     "output_type": "display_data"
    },
    {
     "name": "stderr",
     "output_type": "stream",
     "text": [
      "Epoch 101, global step 10200: 'val_loss' was not in top 1\n"
     ]
    },
    {
     "data": {
      "application/vnd.jupyter.widget-view+json": {
       "model_id": "6e26509c8d2c409cbfd2820b7717a77f",
       "version_major": 2,
       "version_minor": 0
      },
      "text/plain": [
       "Validation: |          | 0/? [00:00<?, ?it/s]"
      ]
     },
     "metadata": {},
     "output_type": "display_data"
    },
    {
     "name": "stderr",
     "output_type": "stream",
     "text": [
      "Epoch 102, global step 10300: 'val_loss' was not in top 1\n"
     ]
    },
    {
     "data": {
      "application/vnd.jupyter.widget-view+json": {
       "model_id": "afc8fc57ee4a43dd9d49ae297610ea7b",
       "version_major": 2,
       "version_minor": 0
      },
      "text/plain": [
       "Validation: |          | 0/? [00:00<?, ?it/s]"
      ]
     },
     "metadata": {},
     "output_type": "display_data"
    },
    {
     "name": "stderr",
     "output_type": "stream",
     "text": [
      "Epoch 103, global step 10400: 'val_loss' was not in top 1\n"
     ]
    },
    {
     "data": {
      "application/vnd.jupyter.widget-view+json": {
       "model_id": "8bcb645f82024665bb730badfde3f9f5",
       "version_major": 2,
       "version_minor": 0
      },
      "text/plain": [
       "Validation: |          | 0/? [00:00<?, ?it/s]"
      ]
     },
     "metadata": {},
     "output_type": "display_data"
    },
    {
     "name": "stderr",
     "output_type": "stream",
     "text": [
      "Epoch 104, global step 10500: 'val_loss' was not in top 1\n"
     ]
    },
    {
     "data": {
      "application/vnd.jupyter.widget-view+json": {
       "model_id": "af4ae76207054f12bf820b1165fd46c3",
       "version_major": 2,
       "version_minor": 0
      },
      "text/plain": [
       "Validation: |          | 0/? [00:00<?, ?it/s]"
      ]
     },
     "metadata": {},
     "output_type": "display_data"
    },
    {
     "name": "stderr",
     "output_type": "stream",
     "text": [
      "Metric val_loss improved by 0.099 >= min_delta = 0.0. New best score: -0.568\n",
      "Epoch 105, global step 10600: 'val_loss' reached -0.56782 (best -0.56782), saving model to 'C:\\\\Users\\\\eddie\\\\OneDrive\\\\Documents\\\\GitHub\\\\NeuroPattern\\\\other-archs\\\\model-size-scaling-logs\\\\2021\\\\experiments\\\\lightning_logs\\\\version_0\\\\checkpoints\\\\epoch=105-step=10600.ckpt' as top 1\n"
     ]
    },
    {
     "data": {
      "application/vnd.jupyter.widget-view+json": {
       "model_id": "45d2032f611548589194c184aca9f6b5",
       "version_major": 2,
       "version_minor": 0
      },
      "text/plain": [
       "Validation: |          | 0/? [00:00<?, ?it/s]"
      ]
     },
     "metadata": {},
     "output_type": "display_data"
    },
    {
     "name": "stderr",
     "output_type": "stream",
     "text": [
      "Epoch 106, global step 10700: 'val_loss' was not in top 1\n"
     ]
    },
    {
     "data": {
      "application/vnd.jupyter.widget-view+json": {
       "model_id": "6bbaeaab58be452298a17b0ef4db9b13",
       "version_major": 2,
       "version_minor": 0
      },
      "text/plain": [
       "Validation: |          | 0/? [00:00<?, ?it/s]"
      ]
     },
     "metadata": {},
     "output_type": "display_data"
    },
    {
     "name": "stderr",
     "output_type": "stream",
     "text": [
      "Epoch 107, global step 10800: 'val_loss' was not in top 1\n"
     ]
    },
    {
     "data": {
      "application/vnd.jupyter.widget-view+json": {
       "model_id": "bb71e187996d415fb5433764f580f366",
       "version_major": 2,
       "version_minor": 0
      },
      "text/plain": [
       "Validation: |          | 0/? [00:00<?, ?it/s]"
      ]
     },
     "metadata": {},
     "output_type": "display_data"
    },
    {
     "name": "stderr",
     "output_type": "stream",
     "text": [
      "Epoch 108, global step 10900: 'val_loss' was not in top 1\n"
     ]
    },
    {
     "data": {
      "application/vnd.jupyter.widget-view+json": {
       "model_id": "52cda3cf6de74987aec6eda3eaf818f4",
       "version_major": 2,
       "version_minor": 0
      },
      "text/plain": [
       "Validation: |          | 0/? [00:00<?, ?it/s]"
      ]
     },
     "metadata": {},
     "output_type": "display_data"
    },
    {
     "name": "stderr",
     "output_type": "stream",
     "text": [
      "Epoch 109, global step 11000: 'val_loss' was not in top 1\n"
     ]
    },
    {
     "data": {
      "application/vnd.jupyter.widget-view+json": {
       "model_id": "be5310238fdb4cce90d8ce2a15f01469",
       "version_major": 2,
       "version_minor": 0
      },
      "text/plain": [
       "Validation: |          | 0/? [00:00<?, ?it/s]"
      ]
     },
     "metadata": {},
     "output_type": "display_data"
    },
    {
     "name": "stderr",
     "output_type": "stream",
     "text": [
      "Epoch 110, global step 11100: 'val_loss' was not in top 1\n"
     ]
    },
    {
     "data": {
      "application/vnd.jupyter.widget-view+json": {
       "model_id": "2061ef28f31044d6858a4d954a0da283",
       "version_major": 2,
       "version_minor": 0
      },
      "text/plain": [
       "Validation: |          | 0/? [00:00<?, ?it/s]"
      ]
     },
     "metadata": {},
     "output_type": "display_data"
    },
    {
     "name": "stderr",
     "output_type": "stream",
     "text": [
      "Epoch 111, global step 11200: 'val_loss' was not in top 1\n"
     ]
    },
    {
     "data": {
      "application/vnd.jupyter.widget-view+json": {
       "model_id": "65ac97c5ba834f80870e395714518660",
       "version_major": 2,
       "version_minor": 0
      },
      "text/plain": [
       "Validation: |          | 0/? [00:00<?, ?it/s]"
      ]
     },
     "metadata": {},
     "output_type": "display_data"
    },
    {
     "name": "stderr",
     "output_type": "stream",
     "text": [
      "Epoch 112, global step 11300: 'val_loss' was not in top 1\n"
     ]
    },
    {
     "data": {
      "application/vnd.jupyter.widget-view+json": {
       "model_id": "3327eb785eb940b5b337dddc10f8d562",
       "version_major": 2,
       "version_minor": 0
      },
      "text/plain": [
       "Validation: |          | 0/? [00:00<?, ?it/s]"
      ]
     },
     "metadata": {},
     "output_type": "display_data"
    },
    {
     "name": "stderr",
     "output_type": "stream",
     "text": [
      "Epoch 113, global step 11400: 'val_loss' was not in top 1\n"
     ]
    },
    {
     "data": {
      "application/vnd.jupyter.widget-view+json": {
       "model_id": "3594aae517f94a2eaa4b59b5a8d5ae60",
       "version_major": 2,
       "version_minor": 0
      },
      "text/plain": [
       "Validation: |          | 0/? [00:00<?, ?it/s]"
      ]
     },
     "metadata": {},
     "output_type": "display_data"
    },
    {
     "name": "stderr",
     "output_type": "stream",
     "text": [
      "Epoch 114, global step 11500: 'val_loss' was not in top 1\n"
     ]
    },
    {
     "data": {
      "application/vnd.jupyter.widget-view+json": {
       "model_id": "2d65a9f483da4110b3c2f8ba6073a397",
       "version_major": 2,
       "version_minor": 0
      },
      "text/plain": [
       "Validation: |          | 0/? [00:00<?, ?it/s]"
      ]
     },
     "metadata": {},
     "output_type": "display_data"
    },
    {
     "name": "stderr",
     "output_type": "stream",
     "text": [
      "Epoch 115, global step 11600: 'val_loss' was not in top 1\n"
     ]
    },
    {
     "data": {
      "application/vnd.jupyter.widget-view+json": {
       "model_id": "fe7dc429d8074b9eb46a6e64a8168eef",
       "version_major": 2,
       "version_minor": 0
      },
      "text/plain": [
       "Validation: |          | 0/? [00:00<?, ?it/s]"
      ]
     },
     "metadata": {},
     "output_type": "display_data"
    },
    {
     "name": "stderr",
     "output_type": "stream",
     "text": [
      "Epoch 116, global step 11700: 'val_loss' was not in top 1\n"
     ]
    },
    {
     "data": {
      "application/vnd.jupyter.widget-view+json": {
       "model_id": "b808feec00c142aebcdd247c23d56358",
       "version_major": 2,
       "version_minor": 0
      },
      "text/plain": [
       "Validation: |          | 0/? [00:00<?, ?it/s]"
      ]
     },
     "metadata": {},
     "output_type": "display_data"
    },
    {
     "name": "stderr",
     "output_type": "stream",
     "text": [
      "Epoch 117, global step 11800: 'val_loss' was not in top 1\n"
     ]
    },
    {
     "data": {
      "application/vnd.jupyter.widget-view+json": {
       "model_id": "188b88b76afd420aba8100d9415b1b95",
       "version_major": 2,
       "version_minor": 0
      },
      "text/plain": [
       "Validation: |          | 0/? [00:00<?, ?it/s]"
      ]
     },
     "metadata": {},
     "output_type": "display_data"
    },
    {
     "name": "stderr",
     "output_type": "stream",
     "text": [
      "Epoch 118, global step 11900: 'val_loss' was not in top 1\n"
     ]
    },
    {
     "data": {
      "application/vnd.jupyter.widget-view+json": {
       "model_id": "8dac91aeb402435ba0198e82cd9bc9c0",
       "version_major": 2,
       "version_minor": 0
      },
      "text/plain": [
       "Validation: |          | 0/? [00:00<?, ?it/s]"
      ]
     },
     "metadata": {},
     "output_type": "display_data"
    },
    {
     "name": "stderr",
     "output_type": "stream",
     "text": [
      "Epoch 119, global step 12000: 'val_loss' was not in top 1\n"
     ]
    },
    {
     "data": {
      "application/vnd.jupyter.widget-view+json": {
       "model_id": "854384710cca4071a290c72a48907604",
       "version_major": 2,
       "version_minor": 0
      },
      "text/plain": [
       "Validation: |          | 0/? [00:00<?, ?it/s]"
      ]
     },
     "metadata": {},
     "output_type": "display_data"
    },
    {
     "name": "stderr",
     "output_type": "stream",
     "text": [
      "Epoch 120, global step 12100: 'val_loss' was not in top 1\n"
     ]
    },
    {
     "data": {
      "application/vnd.jupyter.widget-view+json": {
       "model_id": "9e2f0e5d99bb4bff91e59bb0016458c7",
       "version_major": 2,
       "version_minor": 0
      },
      "text/plain": [
       "Validation: |          | 0/? [00:00<?, ?it/s]"
      ]
     },
     "metadata": {},
     "output_type": "display_data"
    },
    {
     "name": "stderr",
     "output_type": "stream",
     "text": [
      "Epoch 121, global step 12200: 'val_loss' was not in top 1\n"
     ]
    },
    {
     "data": {
      "application/vnd.jupyter.widget-view+json": {
       "model_id": "84028e69450c40d297a4571386a3806c",
       "version_major": 2,
       "version_minor": 0
      },
      "text/plain": [
       "Validation: |          | 0/? [00:00<?, ?it/s]"
      ]
     },
     "metadata": {},
     "output_type": "display_data"
    },
    {
     "name": "stderr",
     "output_type": "stream",
     "text": [
      "Epoch 122, global step 12300: 'val_loss' was not in top 1\n"
     ]
    },
    {
     "data": {
      "application/vnd.jupyter.widget-view+json": {
       "model_id": "41ae5908156b4ec8a5131fd05c6720c0",
       "version_major": 2,
       "version_minor": 0
      },
      "text/plain": [
       "Validation: |          | 0/? [00:00<?, ?it/s]"
      ]
     },
     "metadata": {},
     "output_type": "display_data"
    },
    {
     "name": "stderr",
     "output_type": "stream",
     "text": [
      "Epoch 123, global step 12400: 'val_loss' was not in top 1\n"
     ]
    },
    {
     "data": {
      "application/vnd.jupyter.widget-view+json": {
       "model_id": "f941aa086ecc4e2f9479368ec7b6e705",
       "version_major": 2,
       "version_minor": 0
      },
      "text/plain": [
       "Validation: |          | 0/? [00:00<?, ?it/s]"
      ]
     },
     "metadata": {},
     "output_type": "display_data"
    },
    {
     "name": "stderr",
     "output_type": "stream",
     "text": [
      "Epoch 124, global step 12500: 'val_loss' was not in top 1\n"
     ]
    },
    {
     "data": {
      "application/vnd.jupyter.widget-view+json": {
       "model_id": "8a097b38df8f4db089067821a1a0a45c",
       "version_major": 2,
       "version_minor": 0
      },
      "text/plain": [
       "Validation: |          | 0/? [00:00<?, ?it/s]"
      ]
     },
     "metadata": {},
     "output_type": "display_data"
    },
    {
     "name": "stderr",
     "output_type": "stream",
     "text": [
      "Epoch 125, global step 12600: 'val_loss' was not in top 1\n"
     ]
    },
    {
     "data": {
      "application/vnd.jupyter.widget-view+json": {
       "model_id": "cb5716d43d0045528a92ada53ab869f1",
       "version_major": 2,
       "version_minor": 0
      },
      "text/plain": [
       "Validation: |          | 0/? [00:00<?, ?it/s]"
      ]
     },
     "metadata": {},
     "output_type": "display_data"
    },
    {
     "name": "stderr",
     "output_type": "stream",
     "text": [
      "Epoch 126, global step 12700: 'val_loss' was not in top 1\n"
     ]
    },
    {
     "data": {
      "application/vnd.jupyter.widget-view+json": {
       "model_id": "6399cac662d449c6b8522d4bf0a6b1ab",
       "version_major": 2,
       "version_minor": 0
      },
      "text/plain": [
       "Validation: |          | 0/? [00:00<?, ?it/s]"
      ]
     },
     "metadata": {},
     "output_type": "display_data"
    },
    {
     "name": "stderr",
     "output_type": "stream",
     "text": [
      "Epoch 127, global step 12800: 'val_loss' was not in top 1\n"
     ]
    },
    {
     "data": {
      "application/vnd.jupyter.widget-view+json": {
       "model_id": "7abbd13db48a4ccdb6d03ce2d2e46038",
       "version_major": 2,
       "version_minor": 0
      },
      "text/plain": [
       "Validation: |          | 0/? [00:00<?, ?it/s]"
      ]
     },
     "metadata": {},
     "output_type": "display_data"
    },
    {
     "name": "stderr",
     "output_type": "stream",
     "text": [
      "Epoch 128, global step 12900: 'val_loss' was not in top 1\n"
     ]
    },
    {
     "data": {
      "application/vnd.jupyter.widget-view+json": {
       "model_id": "cf9676f8b9b24d06915001051ff56cfb",
       "version_major": 2,
       "version_minor": 0
      },
      "text/plain": [
       "Validation: |          | 0/? [00:00<?, ?it/s]"
      ]
     },
     "metadata": {},
     "output_type": "display_data"
    },
    {
     "name": "stderr",
     "output_type": "stream",
     "text": [
      "Epoch 129, global step 13000: 'val_loss' was not in top 1\n"
     ]
    },
    {
     "data": {
      "application/vnd.jupyter.widget-view+json": {
       "model_id": "1aa0e7f19ff9472a82a01858708b84ed",
       "version_major": 2,
       "version_minor": 0
      },
      "text/plain": [
       "Validation: |          | 0/? [00:00<?, ?it/s]"
      ]
     },
     "metadata": {},
     "output_type": "display_data"
    },
    {
     "name": "stderr",
     "output_type": "stream",
     "text": [
      "Epoch 130, global step 13100: 'val_loss' was not in top 1\n"
     ]
    },
    {
     "data": {
      "application/vnd.jupyter.widget-view+json": {
       "model_id": "ed5ab2edf24440fb84fcf11f1a8163e9",
       "version_major": 2,
       "version_minor": 0
      },
      "text/plain": [
       "Validation: |          | 0/? [00:00<?, ?it/s]"
      ]
     },
     "metadata": {},
     "output_type": "display_data"
    },
    {
     "name": "stderr",
     "output_type": "stream",
     "text": [
      "Epoch 131, global step 13200: 'val_loss' was not in top 1\n"
     ]
    },
    {
     "data": {
      "application/vnd.jupyter.widget-view+json": {
       "model_id": "2dc9692c0cc24bfb84f1c0427134bf43",
       "version_major": 2,
       "version_minor": 0
      },
      "text/plain": [
       "Validation: |          | 0/? [00:00<?, ?it/s]"
      ]
     },
     "metadata": {},
     "output_type": "display_data"
    },
    {
     "name": "stderr",
     "output_type": "stream",
     "text": [
      "Epoch 132, global step 13300: 'val_loss' was not in top 1\n"
     ]
    },
    {
     "data": {
      "application/vnd.jupyter.widget-view+json": {
       "model_id": "9f93997d6616491ab821bb30d12f482d",
       "version_major": 2,
       "version_minor": 0
      },
      "text/plain": [
       "Validation: |          | 0/? [00:00<?, ?it/s]"
      ]
     },
     "metadata": {},
     "output_type": "display_data"
    },
    {
     "name": "stderr",
     "output_type": "stream",
     "text": [
      "Epoch 133, global step 13400: 'val_loss' was not in top 1\n"
     ]
    },
    {
     "data": {
      "application/vnd.jupyter.widget-view+json": {
       "model_id": "be9bb9fa4cbb416a9f3e936d16794660",
       "version_major": 2,
       "version_minor": 0
      },
      "text/plain": [
       "Validation: |          | 0/? [00:00<?, ?it/s]"
      ]
     },
     "metadata": {},
     "output_type": "display_data"
    },
    {
     "name": "stderr",
     "output_type": "stream",
     "text": [
      "Epoch 134, global step 13500: 'val_loss' was not in top 1\n"
     ]
    },
    {
     "data": {
      "application/vnd.jupyter.widget-view+json": {
       "model_id": "50d6277fc884473dae226dd9cc043f10",
       "version_major": 2,
       "version_minor": 0
      },
      "text/plain": [
       "Validation: |          | 0/? [00:00<?, ?it/s]"
      ]
     },
     "metadata": {},
     "output_type": "display_data"
    },
    {
     "name": "stderr",
     "output_type": "stream",
     "text": [
      "Epoch 135, global step 13600: 'val_loss' was not in top 1\n"
     ]
    },
    {
     "data": {
      "application/vnd.jupyter.widget-view+json": {
       "model_id": "e3d17a6336e24948b94a1c31c116a4b3",
       "version_major": 2,
       "version_minor": 0
      },
      "text/plain": [
       "Validation: |          | 0/? [00:00<?, ?it/s]"
      ]
     },
     "metadata": {},
     "output_type": "display_data"
    },
    {
     "name": "stderr",
     "output_type": "stream",
     "text": [
      "Epoch 136, global step 13700: 'val_loss' was not in top 1\n"
     ]
    },
    {
     "data": {
      "application/vnd.jupyter.widget-view+json": {
       "model_id": "f60a5c66054f4b2b8894baab7d9ef205",
       "version_major": 2,
       "version_minor": 0
      },
      "text/plain": [
       "Validation: |          | 0/? [00:00<?, ?it/s]"
      ]
     },
     "metadata": {},
     "output_type": "display_data"
    },
    {
     "name": "stderr",
     "output_type": "stream",
     "text": [
      "Epoch 137, global step 13800: 'val_loss' was not in top 1\n"
     ]
    },
    {
     "data": {
      "application/vnd.jupyter.widget-view+json": {
       "model_id": "64361c9f934e4d3bba35079e04d81bc5",
       "version_major": 2,
       "version_minor": 0
      },
      "text/plain": [
       "Validation: |          | 0/? [00:00<?, ?it/s]"
      ]
     },
     "metadata": {},
     "output_type": "display_data"
    },
    {
     "name": "stderr",
     "output_type": "stream",
     "text": [
      "Epoch 138, global step 13900: 'val_loss' was not in top 1\n"
     ]
    },
    {
     "data": {
      "application/vnd.jupyter.widget-view+json": {
       "model_id": "36c726f228f4495ea98a8376596e12d4",
       "version_major": 2,
       "version_minor": 0
      },
      "text/plain": [
       "Validation: |          | 0/? [00:00<?, ?it/s]"
      ]
     },
     "metadata": {},
     "output_type": "display_data"
    },
    {
     "name": "stderr",
     "output_type": "stream",
     "text": [
      "Epoch 139, global step 14000: 'val_loss' was not in top 1\n"
     ]
    },
    {
     "data": {
      "application/vnd.jupyter.widget-view+json": {
       "model_id": "3bee6be369174d3abdf21f4d7f02609b",
       "version_major": 2,
       "version_minor": 0
      },
      "text/plain": [
       "Validation: |          | 0/? [00:00<?, ?it/s]"
      ]
     },
     "metadata": {},
     "output_type": "display_data"
    },
    {
     "name": "stderr",
     "output_type": "stream",
     "text": [
      "Epoch 140, global step 14100: 'val_loss' was not in top 1\n"
     ]
    },
    {
     "data": {
      "application/vnd.jupyter.widget-view+json": {
       "model_id": "3c4df4a4c16046afb36889cb66bc262c",
       "version_major": 2,
       "version_minor": 0
      },
      "text/plain": [
       "Validation: |          | 0/? [00:00<?, ?it/s]"
      ]
     },
     "metadata": {},
     "output_type": "display_data"
    },
    {
     "name": "stderr",
     "output_type": "stream",
     "text": [
      "Epoch 141, global step 14200: 'val_loss' was not in top 1\n"
     ]
    },
    {
     "data": {
      "application/vnd.jupyter.widget-view+json": {
       "model_id": "4bd2fae41e0b4a20b14f5b7311f7454b",
       "version_major": 2,
       "version_minor": 0
      },
      "text/plain": [
       "Validation: |          | 0/? [00:00<?, ?it/s]"
      ]
     },
     "metadata": {},
     "output_type": "display_data"
    },
    {
     "name": "stderr",
     "output_type": "stream",
     "text": [
      "Epoch 142, global step 14300: 'val_loss' was not in top 1\n"
     ]
    },
    {
     "data": {
      "application/vnd.jupyter.widget-view+json": {
       "model_id": "17dc1c966738484f9d3c0b2a707729fd",
       "version_major": 2,
       "version_minor": 0
      },
      "text/plain": [
       "Validation: |          | 0/? [00:00<?, ?it/s]"
      ]
     },
     "metadata": {},
     "output_type": "display_data"
    },
    {
     "name": "stderr",
     "output_type": "stream",
     "text": [
      "Epoch 143, global step 14400: 'val_loss' was not in top 1\n"
     ]
    },
    {
     "data": {
      "application/vnd.jupyter.widget-view+json": {
       "model_id": "968f6e60b6e1470299a8a379ff327406",
       "version_major": 2,
       "version_minor": 0
      },
      "text/plain": [
       "Validation: |          | 0/? [00:00<?, ?it/s]"
      ]
     },
     "metadata": {},
     "output_type": "display_data"
    },
    {
     "name": "stderr",
     "output_type": "stream",
     "text": [
      "Epoch 144, global step 14500: 'val_loss' was not in top 1\n"
     ]
    },
    {
     "data": {
      "application/vnd.jupyter.widget-view+json": {
       "model_id": "9e45cf3eeb1c445bab8579dcd2d9ce58",
       "version_major": 2,
       "version_minor": 0
      },
      "text/plain": [
       "Validation: |          | 0/? [00:00<?, ?it/s]"
      ]
     },
     "metadata": {},
     "output_type": "display_data"
    },
    {
     "name": "stderr",
     "output_type": "stream",
     "text": [
      "Epoch 145, global step 14600: 'val_loss' was not in top 1\n"
     ]
    },
    {
     "data": {
      "application/vnd.jupyter.widget-view+json": {
       "model_id": "8bbe6730b4794a9c9bf802e97a0178e3",
       "version_major": 2,
       "version_minor": 0
      },
      "text/plain": [
       "Validation: |          | 0/? [00:00<?, ?it/s]"
      ]
     },
     "metadata": {},
     "output_type": "display_data"
    },
    {
     "name": "stderr",
     "output_type": "stream",
     "text": [
      "Epoch 146, global step 14700: 'val_loss' was not in top 1\n"
     ]
    },
    {
     "data": {
      "application/vnd.jupyter.widget-view+json": {
       "model_id": "71198dbac5c54276acb1166cd3741ed2",
       "version_major": 2,
       "version_minor": 0
      },
      "text/plain": [
       "Validation: |          | 0/? [00:00<?, ?it/s]"
      ]
     },
     "metadata": {},
     "output_type": "display_data"
    },
    {
     "name": "stderr",
     "output_type": "stream",
     "text": [
      "Epoch 147, global step 14800: 'val_loss' was not in top 1\n"
     ]
    },
    {
     "data": {
      "application/vnd.jupyter.widget-view+json": {
       "model_id": "32d3f5961b484d2f9dc52170a7d8b1c9",
       "version_major": 2,
       "version_minor": 0
      },
      "text/plain": [
       "Validation: |          | 0/? [00:00<?, ?it/s]"
      ]
     },
     "metadata": {},
     "output_type": "display_data"
    },
    {
     "name": "stderr",
     "output_type": "stream",
     "text": [
      "Epoch 148, global step 14900: 'val_loss' was not in top 1\n"
     ]
    },
    {
     "data": {
      "application/vnd.jupyter.widget-view+json": {
       "model_id": "02c780a0b41b40649c897f8f13ce2907",
       "version_major": 2,
       "version_minor": 0
      },
      "text/plain": [
       "Validation: |          | 0/? [00:00<?, ?it/s]"
      ]
     },
     "metadata": {},
     "output_type": "display_data"
    },
    {
     "name": "stderr",
     "output_type": "stream",
     "text": [
      "Epoch 149, global step 15000: 'val_loss' was not in top 1\n"
     ]
    },
    {
     "data": {
      "application/vnd.jupyter.widget-view+json": {
       "model_id": "6cc8f577317840fcbbc8507c25531cc8",
       "version_major": 2,
       "version_minor": 0
      },
      "text/plain": [
       "Validation: |          | 0/? [00:00<?, ?it/s]"
      ]
     },
     "metadata": {},
     "output_type": "display_data"
    },
    {
     "name": "stderr",
     "output_type": "stream",
     "text": [
      "Epoch 150, global step 15100: 'val_loss' was not in top 1\n"
     ]
    },
    {
     "data": {
      "application/vnd.jupyter.widget-view+json": {
       "model_id": "54e120957783419d8a11722120dc76e5",
       "version_major": 2,
       "version_minor": 0
      },
      "text/plain": [
       "Validation: |          | 0/? [00:00<?, ?it/s]"
      ]
     },
     "metadata": {},
     "output_type": "display_data"
    },
    {
     "name": "stderr",
     "output_type": "stream",
     "text": [
      "Epoch 151, global step 15200: 'val_loss' was not in top 1\n"
     ]
    },
    {
     "data": {
      "application/vnd.jupyter.widget-view+json": {
       "model_id": "6dd550cebd804ba6bb5368ecd051b7e8",
       "version_major": 2,
       "version_minor": 0
      },
      "text/plain": [
       "Validation: |          | 0/? [00:00<?, ?it/s]"
      ]
     },
     "metadata": {},
     "output_type": "display_data"
    },
    {
     "name": "stderr",
     "output_type": "stream",
     "text": [
      "Epoch 152, global step 15300: 'val_loss' was not in top 1\n"
     ]
    },
    {
     "data": {
      "application/vnd.jupyter.widget-view+json": {
       "model_id": "e55d8fe386ff4e358fd87787a5926b9e",
       "version_major": 2,
       "version_minor": 0
      },
      "text/plain": [
       "Validation: |          | 0/? [00:00<?, ?it/s]"
      ]
     },
     "metadata": {},
     "output_type": "display_data"
    },
    {
     "name": "stderr",
     "output_type": "stream",
     "text": [
      "Epoch 153, global step 15400: 'val_loss' was not in top 1\n"
     ]
    },
    {
     "data": {
      "application/vnd.jupyter.widget-view+json": {
       "model_id": "10ad8c647ea441a3a6887d99b742831c",
       "version_major": 2,
       "version_minor": 0
      },
      "text/plain": [
       "Validation: |          | 0/? [00:00<?, ?it/s]"
      ]
     },
     "metadata": {},
     "output_type": "display_data"
    },
    {
     "name": "stderr",
     "output_type": "stream",
     "text": [
      "Epoch 154, global step 15500: 'val_loss' was not in top 1\n"
     ]
    },
    {
     "data": {
      "application/vnd.jupyter.widget-view+json": {
       "model_id": "6b109512da5545c0ab5ea0626b041acd",
       "version_major": 2,
       "version_minor": 0
      },
      "text/plain": [
       "Validation: |          | 0/? [00:00<?, ?it/s]"
      ]
     },
     "metadata": {},
     "output_type": "display_data"
    },
    {
     "name": "stderr",
     "output_type": "stream",
     "text": [
      "Monitored metric val_loss did not improve in the last 50 records. Best score: -0.568. Signaling Trainer to stop.\n",
      "Epoch 155, global step 15600: 'val_loss' was not in top 1\n"
     ]
    },
    {
     "name": "stdout",
     "output_type": "stream",
     "text": [
      "Use checkpoint: None\n",
      "Predict on covid_weekly\n",
      "window_size 13500\n",
      "i 0\n",
      "i 4\n",
      "i 8\n",
      "i 12\n",
      "i 16\n",
      "i 20\n",
      "i 24\n",
      "i 28\n",
      "i 32\n",
      "i 36\n",
      "i 40\n",
      "i 44\n",
      "i 48\n",
      "i 52\n",
      "i 56\n",
      "i 60\n",
      "i 64\n",
      "i 68\n",
      "i 72\n",
      "i 76\n",
      "i 80\n",
      "i 84\n",
      "i 88\n",
      "i 92\n",
      "i 96\n",
      "i 100\n",
      "i 104\n",
      "i 108\n",
      "i 112\n",
      "i 116\n",
      "i 120\n",
      "i 124\n",
      "i 128\n",
      "i 132\n",
      "i 136\n",
      "i 140\n",
      "i 144\n",
      "i 148\n",
      "i 152\n",
      "i 156\n",
      "i 160\n",
      "i 164\n",
      "target: [  15.   42.  224. 1337.]\n",
      "start: 2019-01-01\n",
      "target: [ 5753. 13024. 15803. 15132.]\n",
      "start: 2019-01-05\n",
      "target: [13785. 13053. 10239.  8297.]\n",
      "start: 2019-01-09\n",
      "target: [7569. 6162. 5511. 4435.]\n",
      "start: 2019-01-13\n",
      "target: [6130. 4347. 5375. 6549.]\n",
      "start: 2019-01-17\n",
      "target: [7523. 8061. 7851. 7674.]\n",
      "start: 2019-01-21\n",
      "target: [6717. 6315. 5836. 5018.]\n",
      "start: 2019-01-25\n",
      "target: [5236. 4801. 4558. 4730.]\n",
      "start: 2019-01-29\n",
      "target: [4713. 5684. 6107. 6852.]\n",
      "start: 2019-02-02\n",
      "target: [ 8706. 10132. 12251. 13866.]\n",
      "start: 2019-02-06\n",
      "target: [17119. 19105. 19045. 18838.]\n",
      "start: 2019-02-10\n",
      "target: [20835. 23639. 22200. 22662.]\n",
      "start: 2019-02-14\n",
      "target: [19967. 18176. 17171. 13716.]\n",
      "start: 2019-02-18\n",
      "target: [10488.  8992.  6677.  6147.]\n",
      "start: 2019-02-22\n",
      "target: [5552. 4881. 4932. 4693.]\n",
      "start: 2019-02-26\n",
      "target: [4522. 4451. 4078. 3676.]\n",
      "start: 2019-03-02\n",
      "target: [3480. 2792. 2807. 1893.]\n",
      "start: 2019-03-06\n",
      "target: [1961. 1825. 1497. 1877.]\n",
      "start: 2019-03-10\n",
      "target: [2040. 2816. 4140. 5279.]\n",
      "start: 2019-03-14\n",
      "target: [ 7695.  9902. 11573. 11766.]\n",
      "start: 2019-03-18\n",
      "target: [13543. 13258. 13246. 11642.]\n",
      "start: 2019-03-22\n",
      "target: [10677. 11168.  9086.  7583.]\n",
      "start: 2019-03-26\n",
      "target: [ 7409. 10348.  6789.  7226.]\n",
      "start: 2019-03-30\n",
      "target: [ 8256.  9002. 11667.  9170.]\n",
      "start: 2019-04-03\n",
      "target: [10594. 13844. 15510. 18599.]\n",
      "start: 2019-04-07\n",
      "target: [18833. 18082. 15956. 13064.]\n",
      "start: 2019-04-11\n",
      "target: [10400.  8738.  6147.  5187.]\n",
      "start: 2019-04-15\n",
      "target: [4346. 3180. 3468. 2645.]\n",
      "start: 2019-04-19\n",
      "target: [2093. 2646. 2020. 2034.]\n",
      "start: 2019-04-23\n",
      "target: [2528. 2098. 2354. 2201.]\n",
      "start: 2019-04-27\n",
      "target: [2373. 2615. 2452. 2862.]\n",
      "start: 2019-05-01\n",
      "target: [3024. 3117. 3281. 3392.]\n",
      "start: 2019-05-05\n",
      "target: [3278. 3171. 3222. 2562.]\n",
      "start: 2019-05-09\n",
      "target: [3125. 2729. 2978. 2575.]\n",
      "start: 2019-05-13\n",
      "target: [2347. 3216. 3081. 2463.]\n",
      "start: 2019-05-17\n",
      "target: [2290. 2202. 2619. 1763.]\n",
      "start: 2019-05-21\n",
      "target: [3035. 2652. 3033. 2480.]\n",
      "start: 2019-05-25\n",
      "target: [2764. 4407. 3664. 3743.]\n",
      "start: 2019-05-29\n",
      "target: [3452. 3440. 2857. 2362.]\n",
      "start: 2019-06-02\n",
      "target: [2197. 1887. 1741. 2084.]\n",
      "start: 2019-06-06\n",
      "target: [1746. 1737. 1729. 1290.]\n",
      "start: 2019-06-10\n",
      "target: [1198. 1046. 1146. 1943.]\n",
      "start: 2019-06-14\n",
      "HEEEEEEEEEEER 2019-01-03\n"
     ]
    },
    {
     "data": {
      "image/png": "[encoded data removed]",
      "text/plain": [
       "<Figure size 2000x1500 with 1 Axes>"
      ]
     },
     "metadata": {},
     "output_type": "display_data"
    }
   ],
   "source": [
    "import argparse\n",
    "from pathlib import Path\n",
    "import pathlib\n",
    "from glob import glob\n",
    "from hashlib import sha1\n",
    "import json\n",
    "import os\n",
    "import random\n",
    "from itertools import islice\n",
    "import numpy as np\n",
    "import torch\n",
    "import pytorch_lightning as L\n",
    "from pytorch_lightning.loggers import CSVLogger\n",
    "from pytorch_lightning.callbacks import EarlyStopping, ModelCheckpoint\n",
    "# Use this import style for PyTorch Lightning\n",
    "from pytorch_lightning import Trainer\n",
    "import pandas as pd\n",
    "import numpy as np\n",
    "import sys\n",
    "from itertools import islice\n",
    "from gluonts.dataset.common import ListDataset\n",
    "from gluonts.evaluation import make_evaluation_predictions, Evaluator\n",
    "from gluonts.evaluation._base import aggregate_valid\n",
    "from gluonts.dataset.repository.datasets import get_dataset\n",
    "from gluonts.dataset.common import ListDataset\n",
    "from gluonts.transform import ValidationSplitSampler\n",
    "import matplotlib.ticker as ticker\n",
    "\n",
    "from estimator import LagLlamaEstimator\n",
    "import matplotlib.pyplot as plt\n",
    "\n",
    "\n",
    "dataset_path = Path(\"../datasets_small\")\n",
    "test_dataset_path = Path(\"../test_data\")\n",
    "\n",
    "\n",
    "TRAIN_DATASET_NAMES = [\n",
    "    \"airpassengers\",\n",
    "    \"australian_electricity_demand\",##\n",
    "    \"car_parts_without_missing\", ##\n",
    "    \"cif_2016\", ##\n",
    "   ## \"covid_deaths\",##\n",
    "    \"electricity\",\n",
    "    \"electricity_weekly\",##\n",
    "    \"exchange_rate\",\n",
    "    \"fred_md\",##\n",
    "    \"hospital\",##\n",
    "    \"kaggle_web_traffic_weekly\", # daily ##\n",
    "    \"kdd_cup_2018_without_missing\",##\n",
    "    \"london_smart_meters_without_missing\",##\n",
    "    \"nn5_daily_with_missing\",##\n",
    "    \"nn5_weekly\",##\n",
    "    \"pedestrian_counts\",##\n",
    "    \"rideshare_without_missing\",##\n",
    "    \"saugeenday\",\n",
    "    \"solar-energy\",\n",
    "    \"solar_10_minutes\",##\n",
    "    \"solar_weekly\",##\n",
    "    \"taxi_30min\",\n",
    "    \"temperature_rain_without_missing\",##\n",
    "    \"tourism_monthly\", ##\n",
    "    \"uber_tlc_daily\",\n",
    "    \"uber_tlc_hourly\",\n",
    "    \"vehicle_trips_without_missing\",##\n",
    "    \"weather\",\n",
    "    \"wiki-rolling_nips\",\n",
    "    \"m4_daily\",##\n",
    "    \"m4_hourly\",##\n",
    "    \"m4_monthly\",##\n",
    "    \"m4_quarterly\",\n",
    "    \"m4_yearly\",##\n",
    "    \"wind_farms_without_missing\",##\n",
    "]\n",
    "\n",
    "class CombinedDatasetIterator:\n",
    "    def __init__(self, datasets, seed, weights):\n",
    "        self._datasets = [iter(el) for el in datasets]\n",
    "        self._weights = weights\n",
    "        self._rng = random.Random(seed)\n",
    "\n",
    "    def __next__(self):\n",
    "        (dataset,) = self._rng.choices(self._datasets, weights=self._weights, k=1)\n",
    "        return next(dataset)\n",
    "\n",
    "class CombinedDataset:\n",
    "    def __init__(self, datasets, seed=None, weights=None):\n",
    "        self._seed = seed\n",
    "        self._datasets = datasets\n",
    "        self._weights = weights\n",
    "        n_datasets = len(datasets)\n",
    "        if weights is None:\n",
    "            self._weights = [1 / n_datasets] * n_datasets\n",
    "\n",
    "    def __iter__(self):\n",
    "        return CombinedDatasetIterator(self._datasets, self._seed, self._weights)\n",
    "\n",
    "    def __len__(self):\n",
    "        return sum([len(ds) for ds in self._datasets])\n",
    "\n",
    "def create_sliding_window_dataset(name, window_size, is_train=True):\n",
    "    # Splits each time series into non-overlapping sliding windows\n",
    "    global_id = 0\n",
    "\n",
    "    freq = get_dataset(name, path=dataset_path).metadata.freq\n",
    "    data = ListDataset([], freq=freq)\n",
    "    dataset = get_dataset(name, path=dataset_path).train if is_train else get_dataset(name, path=dataset_path).test\n",
    "\n",
    "    for x in dataset:\n",
    "        windows = []\n",
    "        for i in range(0, len(x['target']), window_size):\n",
    "            windows.append({\n",
    "                'target': x['target'][i:i+window_size],\n",
    "                'start': x['start'] + i,\n",
    "                'item_id': str(global_id),\n",
    "                'feat_static_cat': np.array([0]),\n",
    "            })\n",
    "            global_id += 1\n",
    "        data += ListDataset(windows, freq=freq)\n",
    "    return data\n",
    "\n",
    "def create_test_dataset(name, window_size, pred_length, fr):\n",
    "    # Similar to `create_sliding_window_dataset` but for test dataset\n",
    "    prediction_length = pred_length\n",
    "    freq = fr\n",
    "    global_id = 0\n",
    "    data = ListDataset([], freq=freq)\n",
    "\n",
    "    df = pd.read_csv('../test_data/' + name + '.csv')  \n",
    "    # Convert the DataFrame into a numpy array\n",
    "    custom_dataset = df.values\n",
    "    custom_dataset = custom_dataset.reshape(1, 168) \n",
    "\n",
    "    start = pd.Period(\"01-01-2019\", freq=fr)  # can be different for each time series\n",
    "    #train_ds = ListDataset(\n",
    "    #[{\"target\": x, \"start\": start} for x in custom_dataset[:, :-prediction_length]],\n",
    "    #freq=freq,\n",
    "    #)\n",
    "    # test dataset: use the whole dataset, add \"target\" and \"start\" fields\n",
    "    test_ds = ListDataset(\n",
    "        [{\"target\": x, \"start\": start} for x in custom_dataset], freq=freq\n",
    "    )\n",
    "    window_size = 4\n",
    "    j = 0\n",
    "    for x in test_ds:\n",
    "        windows = []\n",
    "        for i in range(0, len(x['target']), window_size):\n",
    "            print(\"i\", i)\n",
    "            j = 0\n",
    "            #while j < window_size:\n",
    "            windows.append({\n",
    "                'target': x['target'][i+j:i+window_size+j],\n",
    "                'start': x['start'] + i+j,\n",
    "                'item_id': str(global_id),\n",
    "                'feat_static_cat': np.array([0]),\n",
    "            })\n",
    "                #j += 1\n",
    "            \n",
    "            global_id += 1\n",
    "        data += ListDataset(windows, freq=freq)\n",
    "        for window in windows:\n",
    "                print(\"target:\", window['target'])\n",
    "                print(\"start:\", window['start'])\n",
    "\n",
    "    return data\n",
    "\n",
    "\n",
    "\n",
    "    #data = []\n",
    "    #for x in test_ds:\n",
    "    #    offset = len(x['target']) - window_size - prediction_length\n",
    "    #    if offset > 0:\n",
    "    #        target = x['target'][-(window_size + prediction_length):]\n",
    "    #        data.append({\n",
    "    #            'target': target,\n",
    "    #            'start': x['start'] + offset,\n",
    "    #        })\n",
    "    #    else:\n",
    "    #        data.append(x)\n",
    "    #        \n",
    "    #print(\"data\", data)\n",
    "    #print(ListDataset(data, freq=freq))\n",
    "    #return  ListDataset(data, freq=freq), prediction_length\n",
    "\n",
    "def train(args):\n",
    "    random.seed(args.seed)\n",
    "    np.random.seed(args.seed)\n",
    "    torch.manual_seed(args.seed)\n",
    "    L.seed_everything(args.seed)\n",
    "\n",
    "    #experiment_name = f'data-scaling-context-{args.context_length}-layer-{args.n_layer}-n_embd-{args.n_embd}-n_head-{args.n_head}-aug-{args.aug_prob}-{args.aug_rate}'\n",
    "    fulldir = os.path.join(pathlib.Path().parent.resolve(), \"model-size-scaling-logs\", str(args.seed)) # Always creates the experiment directory inside \"lag-llama\"\n",
    "    os.makedirs(fulldir, exist_ok=True)\n",
    "    fulldir_experiments = os.path.join(fulldir, \"experiments\")\n",
    "    os.makedirs(fulldir_experiments, exist_ok=True)\n",
    "    print(\"fulldire\", fulldir)\n",
    "    \n",
    "    \n",
    "    # Code to retrieve the version with the highest #epoch stored and restore it incl directory and its checkpoint\n",
    "    lightning_version_to_use, ckpt_path = None, None\n",
    "    max_epoch = -1\n",
    "    if \"lightning_logs\" in os.listdir(fulldir_experiments):\n",
    "        for lightning_version in os.listdir(fulldir_experiments+\"/lightning_logs/\"):\n",
    "            ckpts = glob(fulldir_experiments+\"/lightning_logs/\" + lightning_version + \"/checkpoints/*.ckpt\")\n",
    "            if len(ckpts): \n",
    "                epoch = int(ckpts[0][ckpts[0].find(\"=\")+1:ckpts[0].find(\"-step\")])\n",
    "                if epoch > max_epoch:\n",
    "                    lightning_version_to_use = lightning_version\n",
    "                    max_epoch = epoch\n",
    "                    ckpt_path = ckpts[0]\n",
    "        if lightning_version_to_use: print(\"Using lightning_version\", lightning_version_to_use, \"with epoch\", max_epoch, \"restoring from checkpoint at path\", ckpt_path)\n",
    "    else: print (\"no lightning logs found. Training from scratch.\")\n",
    "    \n",
    "    logger = CSVLogger(\n",
    "        save_dir=fulldir_experiments,\n",
    "        flush_logs_every_n_steps=1,\n",
    "        version=lightning_version_to_use\n",
    "    )\n",
    "\n",
    "    early_stop_callback = EarlyStopping(monitor=\"val_loss\", min_delta=0.00, patience=int(args.early_stopping_patience), verbose=True, mode=\"min\")\n",
    "    model_checkpointing = ModelCheckpoint(save_top_k=1)\n",
    "    callbacks = [early_stop_callback, model_checkpointing]\n",
    "\n",
    "    estimators = LagLlamaEstimator(\n",
    "        prediction_length=1,\n",
    "        context_length=args.context_length,\n",
    "        batch_size=args.batch_size,\n",
    "        n_layer=args.n_layer,\n",
    "        n_head=args.n_head,\n",
    "        n_embd=args.n_embd,\n",
    "        scaling=\"std\",\n",
    "        aug_prob=args.aug_prob,\n",
    "        aug_rate=args.aug_rate,\n",
    "        num_batches_per_epoch=args.num_batches_per_epoch,\n",
    "        ckpt_path=ckpt_path,\n",
    "        trainer_kwargs=dict(\n",
    "            max_epochs=args.max_epochs,\n",
    "            accelerator=\"gpu\",\n",
    "            devices=[args.gpu],\n",
    "            limit_val_batches=args.limit_val_batches,\n",
    "            logger=logger,\n",
    "            callbacks=callbacks,\n",
    "            default_root_dir=fulldir_experiments\n",
    "        ),\n",
    "    )\n",
    "    \n",
    "    num_parameters = sum(p.numel() for p in estimators.create_lightning_module().parameters())\n",
    "    print(\"num_parameters : \", num_parameters)\n",
    "\n",
    "    window_size = estimators.context_length + max(estimators.lags_seq) + estimators.prediction_length\n",
    "    # Here we make a window slightly bigger so that instance sampler can sample from each window\n",
    "    # An alternative is to have exact size and use different instance sampler (e.g. ValidationSplitSampler)\n",
    "    window_size = 10 * window_size\n",
    "\n",
    "    # We change ValidationSplitSampler to add min_past\n",
    "    estimators.validation_sampler = ValidationSplitSampler(\n",
    "        min_past=estimators.context_length + max(estimators.lags_seq),\n",
    "        min_future=estimators.prediction_length,\n",
    "    )\n",
    "\n",
    "    if args.test:\n",
    "        print('Testing only')\n",
    "        \n",
    "    else:\n",
    "        # Create training data\n",
    "        train_data, val_data = [], []\n",
    "        for name in TRAIN_DATASET_NAMES:\n",
    "            new_data = create_sliding_window_dataset(name, window_size)\n",
    "            train_data.append(new_data)\n",
    "\n",
    "            new_data = create_sliding_window_dataset(name, window_size, is_train=False)\n",
    "            val_data.append(new_data)\n",
    "        # Here weights are proportional to the number of time series (=sliding windows)\n",
    "        weights = [len(x) for x in train_data]\n",
    "        # Here weights are proportinal to the number of individual points in all time series\n",
    "        # weights = [sum([len(x[\"target\"]) for x in d]) for d in train_data]\n",
    "\n",
    "        train_data = CombinedDataset(train_data, weights=weights)\n",
    "        val_data = CombinedDataset(val_data, weights=weights)\n",
    "\n",
    "        # Train\n",
    "        # TODO: Depending on the stopping criterion, saved checkpoint will be based on validation\n",
    "        # and the test set for these datasets will be the same (doesn't impact zero-shot experiment)\n",
    "        train_output = estimators.train_model(\n",
    "            training_data=train_data,\n",
    "            validation_data=val_data,\n",
    "            ckpt_path=ckpt_path\n",
    "        )\n",
    "\n",
    "    #estimator.ckpt_path = train_output.trainer.checkpoint_callback.best_model_path\n",
    "    print(f'Use checkpoint: {estimators.ckpt_path}')\n",
    "    \n",
    "    ## TEST DATASET #################################################################################\n",
    "\n",
    "    freq = \"1D\"\n",
    "    prediction_length = 6\n",
    "    ## TEST DATASET #################################################################################\n",
    "\n",
    "    # for name in ['m4_weekly', 'traffic'] + TRAIN_DATASET_NAMES:\n",
    "    #for name in ['m4_weekly', 'traffic'] + TRAIN_DATASET_NAMES[0:5]:\n",
    "    for name in ['covid_weekly']:\n",
    "        print(f'Predict on {name}')\n",
    "        print(\"window_size\", window_size)\n",
    "        \n",
    "        test_data = create_test_dataset(name, window_size, prediction_length, freq)\n",
    "        #print(f'{name} prediction length: {prediction_length}')       \n",
    "        \n",
    "        # Adapt evaluator to new dataset\n",
    "        estimators.prediction_length = prediction_length\n",
    "        #estimators.batch_size = max(30 // estimators.prediction_length, 1) # Some heuristic for GPU memory (TODO: change)\n",
    "        predictor = estimators.create_predictor(\n",
    "            estimators.create_transformation(),\n",
    "            estimators.create_lightning_module(),\n",
    "        )\n",
    "        ## Make evaluations\n",
    "        \n",
    "        plt.figure(figsize=(20, 15))\n",
    "        plt.rcParams.update({\"font.size\": 15})\n",
    "\n",
    "        # Iterate over each window in the test data\n",
    "        for idx, window in enumerate(test_data):\n",
    "            # Generate predictions for the window\n",
    "            forecast_it, ts_it = make_evaluation_predictions(\n",
    "                dataset=[window],  # Pass the window as a one-item list\n",
    "                predictor=predictor,\n",
    "            )\n",
    "            forecasts = list(forecast_it)\n",
    "            tss = list(ts_it)\n",
    "\n",
    "            # Plot the actual and predicted values\n",
    "            #ax = plt.subplot(3, 3, idx + 1)\n",
    "            plt.plot(tss[0].to_timestamp(), label=\"truth\", color=\"orange\")\n",
    "            #plt.plot(forecasts[0].to_timestamp(), label=\"target\")\n",
    "            forecasts[0].plot()\n",
    "            \n",
    "            \n",
    "            print(\"HEEEEEEEEEEER\", forecasts[0].start_date)\n",
    "            plt.xticks(rotation=90)\n",
    "            \n",
    "            break\n",
    "\n",
    "        plt.gcf().tight_layout()\n",
    "        plt.legend()\n",
    "        plt.show()\n",
    "        #forecast_it, ts_it = make_evaluation_predictions(\n",
    "        #    dataset=test_data,\n",
    "        #    predictor=predictor,\n",
    "        #)\n",
    "#\n",
    "        #forecasts = list(forecast_it)\n",
    "        #tss = list(ts_it)\n",
    "#\n",
    "        #plt.figure(figsize=(20, 15))\n",
    "        #plt.rcParams.update({\"font.size\": 15})\n",
    "#\n",
    "        #for idx, (forecast, ts) in islice(enumerate(zip(forecasts, tss)), 1):\n",
    "        #    ax = plt.subplot(3, 3, idx + 1)\n",
    "        #    plt.plot(ts.to_timestamp(), label=\"target\")  # Modify this line\n",
    "        #    forecast.plot()\n",
    "        #    plt.xticks(rotation=60)\n",
    "#\n",
    "        #plt.gcf().tight_layout()\n",
    "        #plt.legend()\n",
    "        #plt.show()\n",
    "\n",
    "        #forecast_it, ts_it = make_evaluation_predictions(\n",
    "        #    dataset=test_data,\n",
    "        #    predictor=predictor,\n",
    "        #)\n",
    "        ##\n",
    "        #forecasts = list(forecast_it)\n",
    "        #tss = list(ts_it)\n",
    "        #\n",
    "#\n",
    "        #\n",
    "        #plt.figure(figsize=(20, 15))\n",
    "        #plt.rcParams.update({\"font.size\": 15})\n",
    "#\n",
    "        #for idx, (forecast, ts) in islice(enumerate(zip(forecasts, tss)), 1):\n",
    "        #    ax = plt.subplot(3, 3, idx + 1)\n",
    "        #    plt.plot(ts.to_timestamp(), label=\"target\")  # Modify this line\n",
    "        #    forecast.plot()\n",
    "        #    plt.xticks(rotation=60)\n",
    "#\n",
    "        #plt.gcf().tight_layout()\n",
    "        #plt.legend()\n",
    "        #plt.show()\n",
    "\n",
    "        #evaluator = Evaluator(num_workers=1, aggregation_strategy=aggregate_valid)\n",
    "        #agg_metrics, _ = evaluator(\n",
    "        #    iter(tss), iter(forecasts), num_series=len(test_data)\n",
    "        #)\n",
    "        #\n",
    "        #agg_metrics[\"trainable_parameters\"] = num_parameters\n",
    "        #agg_metrics[\"n_layer\"] = args.n_layer\n",
    "        #agg_metrics[\"n_embd\"] = args.n_embd\n",
    "        #agg_metrics[\"n_head\"] = args.n_head\n",
    "#\n",
    "        #print(\"logger.log_dir : \", logger.log_dir)\n",
    "        #print(\"os.path.exists(logger.log_dir) : \", os.path.exists(logger.log_dir))\n",
    "#\n",
    "        #if not os.path.exists(logger.log_dir):\n",
    "        #    os.makedirs(logger.log_dir)\n",
    "        #with open(f'{logger.log_dir}/{name}.json', 'w') as f:\n",
    "        #    json.dump(agg_metrics, f)\n",
    "\n",
    "\n",
    "import torch\n",
    "print(\"IS CUDA AVAILABLE\")\n",
    "print(torch.cuda.is_available())\n",
    "parser = argparse.ArgumentParser(allow_abbrev=False)\n",
    "\n",
    "#estimator args\n",
    "parser.add_argument(\"--seed\", type=int,  default=2021)\n",
    "parser.add_argument(\"--context_length\", type=int, default=256)\n",
    "parser.add_argument(\"--n_layer\", type=int, default=4)\n",
    "parser.add_argument(\"--n_embd\", type=int, default=256)\n",
    "parser.add_argument(\"--n_head\", type=int, default=4)\n",
    "parser.add_argument(\"--aug_prob\", type=float, default=0.5)\n",
    "parser.add_argument(\"--aug_rate\", type=float, default=0.1)\n",
    "parser.add_argument(\"--batch_size\", type=int, default=100)\n",
    "parser.add_argument(\"--num_batches_per_epoch\", type=int, default=100)\n",
    "# estimator trainer kwarg args\n",
    "parser.add_argument(\"--limit_val_batches\", type=int, default=10)\n",
    "parser.add_argument(\"--max_epochs\", type=int, default=500)\n",
    "parser.add_argument(\"--gpu\", type=int, default=0)\n",
    "# Other args\n",
    "\n",
    "parser.add_argument('--test', default=False)\n",
    "\n",
    "\n",
    "#parser.add_argument('--test', action='store_true')\n",
    "parser.add_argument('--early_stopping_patience', default=50)\n",
    "# Model\n",
    "\n",
    "parser.add_argument('--use_gpu', type=bool, default=True, help='use gpu')\n",
    "\n",
    "args, unknown_args = parser.parse_known_args()\n",
    "\n",
    "# Ignore unknown arguments\n",
    "if unknown_args:\n",
    "    print(f\"Ignored unknown arguments: {unknown_args}\")\n",
    "    \n",
    "    \n",
    "# Use a placeholder filename for notebooks\n",
    "file_path = \"notebook\" if \"__file__\" not in globals() else pathlib.Path(__file__).parent.resolve()\n",
    "print(\"ARGS teest\")\n",
    "print(file_path)\n",
    "\n",
    "args.use_gpu = True if torch.cuda.is_available() and args.use_gpu else False\n",
    "train(args)"
   ]
  }
 ],
 "metadata": {
  "kernelspec": {
   "display_name": "Python 3",
   "language": "python",
   "name": "python3"
  },
  "language_info": {
   "codemirror_mode": {
    "name": "ipython",
    "version": 3
   },
   "file_extension": ".py",
   "mimetype": "text/x-python",
   "name": "python",
   "nbconvert_exporter": "python",
   "pygments_lexer": "ipython3",
   "version": "3.11.5"
  }
 },
 "nbformat": 4,
 "nbformat_minor": 2
}
